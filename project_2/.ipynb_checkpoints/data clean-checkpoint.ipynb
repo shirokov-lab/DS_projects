{
 "cells": [
  {
   "cell_type": "markdown",
   "metadata": {},
   "source": [
    "Bar id — ID of choc.bar in dataset.\n",
    "\n",
    "Company (Maker-if known) — name of the company production.\n",
    "\n",
    "Specific Bean Origin or Bar Name — motherland of cacao beans.\n",
    "\n",
    "Broad Bean Origin — name of the region where nibs were grown.\n",
    "\n",
    "Company Location — country where choc.bar was produced.\n",
    "\n",
    "Bean Type — type of cacao bean.\n",
    "\n",
    "REF — a numerical value showing how long ago the review was added to the database. The higher the value, the more recent the review.\n",
    "\n",
    "Review Date — year of review publication.\n",
    "\n",
    "Cocoa Percent — cocoa percent in chocolate.\n",
    "\n",
    "Rating — focus group evaluation of the bar."
   ]
  },
  {
   "cell_type": "markdown",
   "metadata": {},
   "source": [
    "#### Import necessary libraries"
   ]
  },
  {
   "cell_type": "code",
   "execution_count": 262,
   "metadata": {},
   "outputs": [],
   "source": [
    "import pandas as pd\n",
    "import numpy as np\n",
    "import matplotlib.pyplot as plt\n",
    "import seaborn as sns\n",
    "from itertools import combinations\n",
    "from scipy.stats import ttest_ind\n",
    "import re"
   ]
  },
  {
   "cell_type": "markdown",
   "metadata": {},
   "source": [
    "#### Functions definition"
   ]
  },
  {
   "cell_type": "code",
   "execution_count": 263,
   "metadata": {},
   "outputs": [],
   "source": [
    "def cleaner(df,column):\n",
    "    '''It shows info about basic missing values'''\n",
    "    nans = df[column].isna().sum()\n",
    "    nothing = (df[column]=='').sum()\n",
    "    coded_spaces = (df[column]=='\\xa0').sum()\n",
    "    spaces = (df[column]==' ').sum()\n",
    "    return print(f\"Nans:{nans}\\n'':{nothing}\\n'\\\\xa0':{coded_spaces}\\n' ':{spaces}\")"
   ]
  },
  {
   "cell_type": "code",
   "execution_count": 264,
   "metadata": {},
   "outputs": [],
   "source": [
    "def fix_countries(x):\n",
    "    '''It fixes countries name. Second purpose is reducing the number of unique names'''\n",
    "    if pd.isnull(x):\n",
    "        return x\n",
    "    if x == 'nan':\n",
    "        return np.nan\n",
    "    x = x.replace(' ', '')\n",
    "    x = x.replace('/', ',') # Venezuela/ Ghana\n",
    "    x = x.replace('&', ',')\n",
    "    if '(' in x:\n",
    "        x = x[:x.find('(')] #Peru(SMartin,Pangoa,nacional)\n",
    "    x = x.replace('Guat.', 'Guatemala')\n",
    "    \n",
    "    if 'Ven' in x and 'Venezuela' not in x:\n",
    "        x = x.replace('Venez', 'Venezuela') #Venez,Africa,Brasil,Peru,Mex\n",
    "        x = x.replace('Ven,', 'Venezuela,') #Ven, Trinidad, Ecuador\n",
    "        x = x.replace('Ven.', 'Venezuela') #Ven., Trinidad, Mad.\n",
    "        if 'Ven' in x and 'Venezuela' not in x:\n",
    "            x = x.replace('Ven', 'Venezuela')\n",
    "        \n",
    "    x = x.replace('Dom.Rep.', 'DominicanRepublic')\n",
    "    x = x.replace('DR', 'DominicanRepublic')\n",
    "    x = x.replace('Dom.Rep', 'DominicanRepublic')\n",
    "    x = x.replace('D.R.', 'DominicanRepublic')\n",
    "    x = x.replace('DominicanRep.', 'DominicanRepublic')\n",
    "    x = x.replace('Domin.Rep', 'DominicanRepublic')\n",
    "    x = x.replace('Domin.Re', 'DominicanRepublic')\n",
    "    x = x.replace('DomincanRepublic', 'DominicanRepublic')\n",
    "    \n",
    "    if 'Jam' in x and 'Jamaica' not in x:\n",
    "        x = x.replace('Jam', 'Jamaica')\n",
    "        \n",
    "    if 'Mad.' in x and 'Madagascar' not in x:\n",
    "        x = x.replace('Mad.', 'Madagascar')\n",
    "    elif 'Mad' in x and 'Madagascar' not in x:\n",
    "        x = x.replace('Mad', 'Madagascar')\n",
    "    elif 'Ma' in x and 'Madagascar' not in x:\n",
    "        x = x.replace('Ma', 'Madagascar')\n",
    "        \n",
    "    if 'Hait' in x and 'Haiti' not in x:\n",
    "        x = x.replace('Hait', 'Haiti')\n",
    "        \n",
    "    if 'Per' in x and 'Peru'  not in x:\n",
    "        x = x.replace('Per', 'Peru')\n",
    "    \n",
    "    x = x.replace('Nic.', 'Nicaragua')\n",
    "\n",
    "    x = x.replace('Gre.', 'Grenada')\n",
    "    \n",
    "    x = x.replace('PNG', 'PapuaNewGuinea')\n",
    "    \n",
    "    if 'Mex' in x and 'Mexico' not in x:\n",
    "        x = x.replace('Mex', 'Mexico')\n",
    "        \n",
    "    x = x.replace('Haw.', 'Hawaii')\n",
    "    \n",
    "    x = x.replace('Ecuad.', 'Ecuador')\n",
    "    x = x.replace('Ecu.', 'Ecuador')\n",
    "    \n",
    "    return x"
   ]
  },
  {
   "cell_type": "markdown",
   "metadata": {},
   "source": [
    "#### Read and explore data"
   ]
  },
  {
   "cell_type": "code",
   "execution_count": 265,
   "metadata": {},
   "outputs": [],
   "source": [
    "cacao = pd.read_csv('cacao_flavors.xls')"
   ]
  },
  {
   "cell_type": "code",
   "execution_count": 266,
   "metadata": {},
   "outputs": [
    {
     "data": {
      "text/html": [
       "<div>\n",
       "<style scoped>\n",
       "    .dataframe tbody tr th:only-of-type {\n",
       "        vertical-align: middle;\n",
       "    }\n",
       "\n",
       "    .dataframe tbody tr th {\n",
       "        vertical-align: top;\n",
       "    }\n",
       "\n",
       "    .dataframe thead th {\n",
       "        text-align: right;\n",
       "    }\n",
       "</style>\n",
       "<table border=\"1\" class=\"dataframe\">\n",
       "  <thead>\n",
       "    <tr style=\"text-align: right;\">\n",
       "      <th></th>\n",
       "      <th>Bar id</th>\n",
       "      <th>Company \\n(Maker-if known)</th>\n",
       "      <th>Specific Bean Origin\\nor Bar Name</th>\n",
       "      <th>REF</th>\n",
       "      <th>Review\\nDate</th>\n",
       "      <th>Cocoa\\nPercent</th>\n",
       "      <th>Company\\nLocation</th>\n",
       "      <th>Rating</th>\n",
       "      <th>Bean\\nType</th>\n",
       "      <th>Broad Bean\\nOrigin</th>\n",
       "    </tr>\n",
       "  </thead>\n",
       "  <tbody>\n",
       "    <tr>\n",
       "      <th>0</th>\n",
       "      <td>1</td>\n",
       "      <td>A. Morin</td>\n",
       "      <td>Agua Grande</td>\n",
       "      <td>1876</td>\n",
       "      <td>2016</td>\n",
       "      <td>63%</td>\n",
       "      <td>France</td>\n",
       "      <td>11.5</td>\n",
       "      <td></td>\n",
       "      <td>Sao Tome</td>\n",
       "    </tr>\n",
       "  </tbody>\n",
       "</table>\n",
       "</div>"
      ],
      "text/plain": [
       "   Bar id Company \\n(Maker-if known) Specific Bean Origin\\nor Bar Name   REF  \\\n",
       "0       1                   A. Morin                       Agua Grande  1876   \n",
       "\n",
       "   Review\\nDate Cocoa\\nPercent Company\\nLocation  Rating Bean\\nType  \\\n",
       "0          2016            63%            France    11.5              \n",
       "\n",
       "  Broad Bean\\nOrigin  \n",
       "0           Sao Tome  "
      ]
     },
     "execution_count": 266,
     "metadata": {},
     "output_type": "execute_result"
    }
   ],
   "source": [
    "cacao.head(1)"
   ]
  },
  {
   "cell_type": "markdown",
   "metadata": {},
   "source": [
    "##### Change columns' names to make it clear"
   ]
  },
  {
   "cell_type": "code",
   "execution_count": 267,
   "metadata": {},
   "outputs": [
    {
     "data": {
      "text/html": [
       "<div>\n",
       "<style scoped>\n",
       "    .dataframe tbody tr th:only-of-type {\n",
       "        vertical-align: middle;\n",
       "    }\n",
       "\n",
       "    .dataframe tbody tr th {\n",
       "        vertical-align: top;\n",
       "    }\n",
       "\n",
       "    .dataframe thead th {\n",
       "        text-align: right;\n",
       "    }\n",
       "</style>\n",
       "<table border=\"1\" class=\"dataframe\">\n",
       "  <thead>\n",
       "    <tr style=\"text-align: right;\">\n",
       "      <th></th>\n",
       "      <th>Bar_id</th>\n",
       "      <th>Company</th>\n",
       "      <th>Specific_Origin</th>\n",
       "      <th>REF</th>\n",
       "      <th>Review_Date</th>\n",
       "      <th>Cocoa_Percent</th>\n",
       "      <th>Company_Location</th>\n",
       "      <th>Rating</th>\n",
       "      <th>Bean_Type</th>\n",
       "      <th>Broad_Origin</th>\n",
       "    </tr>\n",
       "  </thead>\n",
       "  <tbody>\n",
       "    <tr>\n",
       "      <th>0</th>\n",
       "      <td>1</td>\n",
       "      <td>A. Morin</td>\n",
       "      <td>Agua Grande</td>\n",
       "      <td>1876</td>\n",
       "      <td>2016</td>\n",
       "      <td>63%</td>\n",
       "      <td>France</td>\n",
       "      <td>11.5</td>\n",
       "      <td></td>\n",
       "      <td>Sao Tome</td>\n",
       "    </tr>\n",
       "  </tbody>\n",
       "</table>\n",
       "</div>"
      ],
      "text/plain": [
       "   Bar_id   Company Specific_Origin   REF  Review_Date Cocoa_Percent  \\\n",
       "0       1  A. Morin     Agua Grande  1876         2016           63%   \n",
       "\n",
       "  Company_Location  Rating Bean_Type Broad_Origin  \n",
       "0           France    11.5               Sao Tome  "
      ]
     },
     "execution_count": 267,
     "metadata": {},
     "output_type": "execute_result"
    }
   ],
   "source": [
    "cacao.columns = ['Bar_id','Company',\n",
    "       'Specific_Origin', 'REF', 'Review_Date',\n",
    "       'Cocoa_Percent', 'Company_Location', 'Rating', 'Bean_Type',\n",
    "       'Broad_Origin']\n",
    "cacao.head(1)"
   ]
  },
  {
   "cell_type": "code",
   "execution_count": 268,
   "metadata": {},
   "outputs": [
    {
     "name": "stdout",
     "output_type": "stream",
     "text": [
      "<class 'pandas.core.frame.DataFrame'>\n",
      "RangeIndex: 1795 entries, 0 to 1794\n",
      "Data columns (total 10 columns):\n",
      " #   Column            Non-Null Count  Dtype  \n",
      "---  ------            --------------  -----  \n",
      " 0   Bar_id            1795 non-null   int64  \n",
      " 1   Company           1795 non-null   object \n",
      " 2   Specific_Origin   1795 non-null   object \n",
      " 3   REF               1795 non-null   int64  \n",
      " 4   Review_Date       1795 non-null   int64  \n",
      " 5   Cocoa_Percent     1795 non-null   object \n",
      " 6   Company_Location  1795 non-null   object \n",
      " 7   Rating            1795 non-null   float64\n",
      " 8   Bean_Type         1794 non-null   object \n",
      " 9   Broad_Origin      1794 non-null   object \n",
      "dtypes: float64(1), int64(3), object(6)\n",
      "memory usage: 140.4+ KB\n"
     ]
    }
   ],
   "source": [
    "cacao.info() # at 1st glance almost no nans"
   ]
  },
  {
   "cell_type": "code",
   "execution_count": 269,
   "metadata": {
    "scrolled": true
   },
   "outputs": [
    {
     "data": {
      "text/plain": [
       "Bar_id              0\n",
       "Company             0\n",
       "Specific_Origin     0\n",
       "REF                 0\n",
       "Review_Date         0\n",
       "Cocoa_Percent       0\n",
       "Company_Location    0\n",
       "Rating              0\n",
       "Bean_Type           1\n",
       "Broad_Origin        1\n",
       "dtype: int64"
      ]
     },
     "execution_count": 269,
     "metadata": {},
     "output_type": "execute_result"
    }
   ],
   "source": [
    "cacao.isna().sum()"
   ]
  },
  {
   "cell_type": "markdown",
   "metadata": {},
   "source": [
    "##### I will go through all columns"
   ]
  },
  {
   "cell_type": "markdown",
   "metadata": {},
   "source": [
    "# Bar_id"
   ]
  },
  {
   "cell_type": "code",
   "execution_count": 270,
   "metadata": {},
   "outputs": [
    {
     "name": "stdout",
     "output_type": "stream",
     "text": [
      "Nans:0\n",
      "'':0\n",
      "'\\xa0':0\n",
      "' ':0\n"
     ]
    }
   ],
   "source": [
    "cleaner(cacao,'Bar_id') # mistake search"
   ]
  },
  {
   "cell_type": "code",
   "execution_count": 271,
   "metadata": {},
   "outputs": [
    {
     "name": "stdout",
     "output_type": "stream",
     "text": [
      "Number of unique values: 1795\n"
     ]
    },
    {
     "data": {
      "image/png": "[encoded data removed]",
      "text/plain": [
       "<Figure size 432x288 with 1 Axes>"
      ]
     },
     "metadata": {
      "needs_background": "light"
     },
     "output_type": "display_data"
    }
   ],
   "source": [
    "print(f\"Number of unique values: {cacao['Bar_id'].nunique()}\")\n",
    "plt.plot(cacao['Bar_id'])\n",
    "plt.show()"
   ]
  },
  {
   "cell_type": "markdown",
   "metadata": {},
   "source": [
    "This is an index column. Number of unique values equals number of rows. We don't need it for further analysis."
   ]
  },
  {
   "cell_type": "code",
   "execution_count": 272,
   "metadata": {},
   "outputs": [
    {
     "data": {
      "text/html": [
       "<div>\n",
       "<style scoped>\n",
       "    .dataframe tbody tr th:only-of-type {\n",
       "        vertical-align: middle;\n",
       "    }\n",
       "\n",
       "    .dataframe tbody tr th {\n",
       "        vertical-align: top;\n",
       "    }\n",
       "\n",
       "    .dataframe thead th {\n",
       "        text-align: right;\n",
       "    }\n",
       "</style>\n",
       "<table border=\"1\" class=\"dataframe\">\n",
       "  <thead>\n",
       "    <tr style=\"text-align: right;\">\n",
       "      <th></th>\n",
       "      <th>Company</th>\n",
       "      <th>Specific_Origin</th>\n",
       "      <th>REF</th>\n",
       "      <th>Review_Date</th>\n",
       "      <th>Cocoa_Percent</th>\n",
       "      <th>Company_Location</th>\n",
       "      <th>Rating</th>\n",
       "      <th>Bean_Type</th>\n",
       "      <th>Broad_Origin</th>\n",
       "    </tr>\n",
       "  </thead>\n",
       "  <tbody>\n",
       "    <tr>\n",
       "      <th>0</th>\n",
       "      <td>A. Morin</td>\n",
       "      <td>Agua Grande</td>\n",
       "      <td>1876</td>\n",
       "      <td>2016</td>\n",
       "      <td>63%</td>\n",
       "      <td>France</td>\n",
       "      <td>11.5</td>\n",
       "      <td></td>\n",
       "      <td>Sao Tome</td>\n",
       "    </tr>\n",
       "  </tbody>\n",
       "</table>\n",
       "</div>"
      ],
      "text/plain": [
       "    Company Specific_Origin   REF  Review_Date Cocoa_Percent Company_Location  \\\n",
       "0  A. Morin     Agua Grande  1876         2016           63%           France   \n",
       "\n",
       "   Rating Bean_Type Broad_Origin  \n",
       "0    11.5               Sao Tome  "
      ]
     },
     "execution_count": 272,
     "metadata": {},
     "output_type": "execute_result"
    }
   ],
   "source": [
    "cacao.drop(['Bar_id'], inplace = True, axis = 'columns') # deleting Bar_Id column\n",
    "cacao.head(1)"
   ]
  },
  {
   "cell_type": "markdown",
   "metadata": {},
   "source": [
    "# Company"
   ]
  },
  {
   "cell_type": "code",
   "execution_count": 273,
   "metadata": {},
   "outputs": [
    {
     "name": "stdout",
     "output_type": "stream",
     "text": [
      "Nans:0\n",
      "'':0\n",
      "'\\xa0':99\n",
      "' ':0\n"
     ]
    }
   ],
   "source": [
    "cleaner(cacao,'Company') # mistake search"
   ]
  },
  {
   "cell_type": "code",
   "execution_count": 274,
   "metadata": {
    "scrolled": true
   },
   "outputs": [
    {
     "data": {
      "text/plain": [
       "['\\xa0',\n",
       " '\\xa0',\n",
       " '\\xa0',\n",
       " '\\xa0',\n",
       " '\\xa0',\n",
       " '\\xa0',\n",
       " '\\xa0',\n",
       " '\\xa0',\n",
       " '\\xa0',\n",
       " '\\xa0',\n",
       " '\\xa0',\n",
       " '\\xa0',\n",
       " '\\xa0',\n",
       " '\\xa0',\n",
       " '\\xa0',\n",
       " '\\xa0',\n",
       " '\\xa0',\n",
       " '\\xa0',\n",
       " '\\xa0',\n",
       " '\\xa0',\n",
       " '\\xa0',\n",
       " '\\xa0',\n",
       " '\\xa0',\n",
       " '\\xa0',\n",
       " '\\xa0',\n",
       " '\\xa0',\n",
       " '\\xa0',\n",
       " '\\xa0',\n",
       " '\\xa0',\n",
       " '\\xa0',\n",
       " '\\xa0',\n",
       " '\\xa0',\n",
       " '\\xa0',\n",
       " '\\xa0',\n",
       " '\\xa0',\n",
       " '\\xa0',\n",
       " '\\xa0',\n",
       " '\\xa0',\n",
       " '\\xa0',\n",
       " '\\xa0',\n",
       " '\\xa0',\n",
       " '\\xa0',\n",
       " '\\xa0',\n",
       " '\\xa0',\n",
       " '\\xa0',\n",
       " '\\xa0',\n",
       " '\\xa0',\n",
       " '\\xa0',\n",
       " '\\xa0',\n",
       " '\\xa0',\n",
       " '\\xa0',\n",
       " '\\xa0',\n",
       " '\\xa0',\n",
       " '\\xa0',\n",
       " '\\xa0',\n",
       " '\\xa0',\n",
       " '\\xa0',\n",
       " '\\xa0',\n",
       " '\\xa0',\n",
       " '\\xa0',\n",
       " '\\xa0',\n",
       " '\\xa0',\n",
       " '\\xa0',\n",
       " '�',\n",
       " '�',\n",
       " '�',\n",
       " '\\xa0',\n",
       " '\\xa0',\n",
       " '\\xa0',\n",
       " '\\xa0',\n",
       " '\\xa0',\n",
       " '\\xa0',\n",
       " '\\xa0',\n",
       " '\\xa0',\n",
       " '\\xa0',\n",
       " '\\xa0',\n",
       " '\\xa0',\n",
       " '\\xa0',\n",
       " '\\xa0',\n",
       " '\\xa0',\n",
       " '\\xa0',\n",
       " '\\xa0',\n",
       " '\\xa0',\n",
       " '\\xa0',\n",
       " '\\xa0',\n",
       " '\\xa0',\n",
       " '\\xa0',\n",
       " '\\xa0',\n",
       " '\\xa0',\n",
       " '\\xa0',\n",
       " '\\xa0',\n",
       " '\\xa0',\n",
       " '\\xa0',\n",
       " '\\xa0',\n",
       " '\\xa0',\n",
       " '\\xa0',\n",
       " '\\xa0',\n",
       " '\\xa0',\n",
       " '\\xa0',\n",
       " '\\xa0',\n",
       " '\\xa0',\n",
       " '\\xa0']"
      ]
     },
     "execution_count": 274,
     "metadata": {},
     "output_type": "execute_result"
    }
   ],
   "source": [
    "mistakes = [itm[0] for itm in cacao['Company'].str.findall(\"[^a-zA-Z0-9_&\\. ()'\\-,]\") if len(itm)>0]\n",
    "mistakes # using regular expression here to find this '\\xa0' and include it into cleaner func."
   ]
  },
  {
   "cell_type": "code",
   "execution_count": 275,
   "metadata": {},
   "outputs": [],
   "source": [
    "cacao.replace('\\xa0', np.nan, inplace=True)"
   ]
  },
  {
   "cell_type": "code",
   "execution_count": 276,
   "metadata": {},
   "outputs": [
    {
     "name": "stdout",
     "output_type": "stream",
     "text": [
      "Nans:99\n",
      "'':0\n",
      "'\\xa0':0\n",
      "' ':0\n"
     ]
    }
   ],
   "source": [
    "cleaner(cacao,'Company') # successful"
   ]
  },
  {
   "cell_type": "code",
   "execution_count": 277,
   "metadata": {},
   "outputs": [
    {
     "name": "stdout",
     "output_type": "stream",
     "text": [
      "Unique companies: 407\n",
      "Number of companies with 10+ choc.bars in data: 30\n"
     ]
    }
   ],
   "source": [
    "print(f\"Unique companies: {cacao.Company.nunique()}\\n\" \\\n",
    "      f\"Number of companies with 10+ choc.bars in data: {(cacao.Company.value_counts()>10).sum()}\")"
   ]
  },
  {
   "cell_type": "markdown",
   "metadata": {},
   "source": [
    "I shouldn't fill NaNs at the moment as there are too many options to fill."
   ]
  },
  {
   "cell_type": "markdown",
   "metadata": {},
   "source": [
    "# Specific_Origin"
   ]
  },
  {
   "cell_type": "code",
   "execution_count": 278,
   "metadata": {},
   "outputs": [
    {
     "name": "stdout",
     "output_type": "stream",
     "text": [
      "Nans:58\n",
      "'':0\n",
      "'\\xa0':0\n",
      "' ':0\n"
     ]
    }
   ],
   "source": [
    "cleaner(cacao,'Specific_Origin') # mistake search"
   ]
  },
  {
   "cell_type": "code",
   "execution_count": 279,
   "metadata": {},
   "outputs": [
    {
     "data": {
      "text/html": [
       "<div>\n",
       "<style scoped>\n",
       "    .dataframe tbody tr th:only-of-type {\n",
       "        vertical-align: middle;\n",
       "    }\n",
       "\n",
       "    .dataframe tbody tr th {\n",
       "        vertical-align: top;\n",
       "    }\n",
       "\n",
       "    .dataframe thead th {\n",
       "        text-align: right;\n",
       "    }\n",
       "</style>\n",
       "<table border=\"1\" class=\"dataframe\">\n",
       "  <thead>\n",
       "    <tr style=\"text-align: right;\">\n",
       "      <th></th>\n",
       "      <th>Specific_Origin</th>\n",
       "    </tr>\n",
       "  </thead>\n",
       "  <tbody>\n",
       "    <tr>\n",
       "      <th>Madagascar</th>\n",
       "      <td>55</td>\n",
       "    </tr>\n",
       "    <tr>\n",
       "      <th>Peru</th>\n",
       "      <td>44</td>\n",
       "    </tr>\n",
       "    <tr>\n",
       "      <th>Ecuador</th>\n",
       "      <td>39</td>\n",
       "    </tr>\n",
       "    <tr>\n",
       "      <th>Dominican Republic</th>\n",
       "      <td>33</td>\n",
       "    </tr>\n",
       "    <tr>\n",
       "      <th>Venezuela</th>\n",
       "      <td>21</td>\n",
       "    </tr>\n",
       "  </tbody>\n",
       "</table>\n",
       "</div>"
      ],
      "text/plain": [
       "                    Specific_Origin\n",
       "Madagascar                       55\n",
       "Peru                             44\n",
       "Ecuador                          39\n",
       "Dominican Republic               33\n",
       "Venezuela                        21"
      ]
     },
     "execution_count": 279,
     "metadata": {},
     "output_type": "execute_result"
    }
   ],
   "source": [
    "pd.DataFrame(cacao['Specific_Origin'].value_counts()).head()"
   ]
  },
  {
   "cell_type": "code",
   "execution_count": 280,
   "metadata": {
    "scrolled": true
   },
   "outputs": [
    {
     "name": "stdout",
     "output_type": "stream",
     "text": [
      "Unique nib motherlands: 1012\n",
      "Number of nib motherlands with 10+ choc.bars in data: 15\n"
     ]
    }
   ],
   "source": [
    "print(f\"Unique nib motherlands: {cacao.Specific_Origin.nunique()}\\n\" \\\n",
    "      f\"Number of nib motherlands with 10+ choc.bars in data: {(cacao.Specific_Origin.value_counts()>10).sum()}\")"
   ]
  },
  {
   "cell_type": "markdown",
   "metadata": {},
   "source": [
    "# REF"
   ]
  },
  {
   "cell_type": "code",
   "execution_count": 281,
   "metadata": {},
   "outputs": [
    {
     "name": "stdout",
     "output_type": "stream",
     "text": [
      "Nans:0\n",
      "'':0\n",
      "'\\xa0':0\n",
      "' ':0\n"
     ]
    }
   ],
   "source": [
    "cleaner(cacao,'REF') # mistake search"
   ]
  },
  {
   "cell_type": "code",
   "execution_count": 282,
   "metadata": {},
   "outputs": [
    {
     "data": {
      "text/plain": [
       "count    1795.000000\n",
       "mean     1035.904735\n",
       "std       552.886365\n",
       "min         5.000000\n",
       "25%       576.000000\n",
       "50%      1069.000000\n",
       "75%      1502.000000\n",
       "max      1952.000000\n",
       "Name: REF, dtype: float64"
      ]
     },
     "execution_count": 282,
     "metadata": {},
     "output_type": "execute_result"
    },
    {
     "data": {
      "image/png": "[encoded data removed]",
      "text/plain": [
       "<Figure size 432x288 with 1 Axes>"
      ]
     },
     "metadata": {
      "needs_background": "light"
     },
     "output_type": "display_data"
    }
   ],
   "source": [
    "cacao['REF'].plot(kind='hist',grid=True)\n",
    "cacao['REF'].describe()\n",
    "# the higher the value - the fresher the review"
   ]
  },
  {
   "cell_type": "markdown",
   "metadata": {},
   "source": [
    "As you can see, this feature has a distribution without anomalies, no outliers. There is a noticeable trend towards an increase in the number of reviews over time (since REF stands for the time when a review was entered into the database). I wonder why this is happening?"
   ]
  },
  {
   "cell_type": "markdown",
   "metadata": {},
   "source": [
    "# Review_Date"
   ]
  },
  {
   "cell_type": "code",
   "execution_count": 283,
   "metadata": {},
   "outputs": [
    {
     "name": "stdout",
     "output_type": "stream",
     "text": [
      "Nans:0\n",
      "'':0\n",
      "'\\xa0':0\n",
      "' ':0\n"
     ]
    }
   ],
   "source": [
    "cleaner(cacao,'Review_Date') # mistake search"
   ]
  },
  {
   "cell_type": "code",
   "execution_count": 284,
   "metadata": {},
   "outputs": [
    {
     "data": {
      "text/plain": [
       "count    1795.000000\n",
       "mean     2012.325348\n",
       "std         2.927210\n",
       "min      2006.000000\n",
       "25%      2010.000000\n",
       "50%      2013.000000\n",
       "75%      2015.000000\n",
       "max      2017.000000\n",
       "Name: Review_Date, dtype: float64"
      ]
     },
     "execution_count": 284,
     "metadata": {},
     "output_type": "execute_result"
    },
    {
     "data": {
      "image/png": "[encoded data removed]",
      "text/plain": [
       "<Figure size 432x288 with 1 Axes>"
      ]
     },
     "metadata": {
      "needs_background": "light"
     },
     "output_type": "display_data"
    }
   ],
   "source": [
    "cacao['Review_Date'].plot(kind='hist',\n",
    "                          grid=True,\n",
    "                          xticks=sorted(cacao['Review_Date'].unique()))\n",
    "cacao['Review_Date'].describe()"
   ]
  },
  {
   "cell_type": "markdown",
   "metadata": {},
   "source": [
    "There is also a trend towards an increase in reviews over time."
   ]
  },
  {
   "cell_type": "markdown",
   "metadata": {},
   "source": [
    "# Cocoa_Percent"
   ]
  },
  {
   "cell_type": "code",
   "execution_count": 285,
   "metadata": {},
   "outputs": [
    {
     "name": "stdout",
     "output_type": "stream",
     "text": [
      "Nans:0\n",
      "'':0\n",
      "'\\xa0':0\n",
      "' ':0\n"
     ]
    }
   ],
   "source": [
    "cleaner(cacao,'Cocoa_Percent') # mistake search"
   ]
  },
  {
   "cell_type": "code",
   "execution_count": 286,
   "metadata": {},
   "outputs": [
    {
     "data": {
      "text/plain": [
       "count     1795\n",
       "unique      59\n",
       "top        70%\n",
       "freq       664\n",
       "Name: Cocoa_Percent, dtype: object"
      ]
     },
     "execution_count": 286,
     "metadata": {},
     "output_type": "execute_result"
    }
   ],
   "source": [
    "cacao['Cocoa_Percent'].describe() # wrong type - object"
   ]
  },
  {
   "cell_type": "code",
   "execution_count": 287,
   "metadata": {},
   "outputs": [],
   "source": [
    "cacao.loc[:,'Cocoa_Percent'] = cacao['Cocoa_Percent'].apply(lambda x:float(x.strip('%')))"
   ]
  },
  {
   "cell_type": "code",
   "execution_count": 288,
   "metadata": {},
   "outputs": [
    {
     "data": {
      "image/png": "[encoded data removed]",
      "text/plain": [
       "<Figure size 432x288 with 1 Axes>"
      ]
     },
     "metadata": {
      "needs_background": "light"
     },
     "output_type": "display_data"
    }
   ],
   "source": [
    "cacao['Cocoa_Percent'].plot(kind='hist')\n",
    "plt.show()"
   ]
  },
  {
   "cell_type": "markdown",
   "metadata": {},
   "source": [
    "Most of data are between 0 and 100 and we should also do smth with **outliers**:\n",
    "1. Interquartile Rule\n",
    "2. Common sense (choc.bar can't contain cocoa more then 100%)"
   ]
  },
  {
   "cell_type": "code",
   "execution_count": 289,
   "metadata": {},
   "outputs": [],
   "source": [
    "perc25 = cacao['Cocoa_Percent'].quantile(0.25)\n",
    "perc75 = cacao['Cocoa_Percent'].quantile(0.75)\n",
    "IQR = perc75 - perc25\n",
    "start = perc25 - 1.5*IQR\n",
    "stop = perc75 + 1.5*IQR"
   ]
  },
  {
   "cell_type": "code",
   "execution_count": 290,
   "metadata": {},
   "outputs": [
    {
     "name": "stdout",
     "output_type": "stream",
     "text": [
      "25 percentile:70.0 IQR:5.0\n",
      "75 percentile:75.0 whiskers range:(62.5,82.5)\n"
     ]
    },
    {
     "data": {
      "image/png": "[encoded data removed]",
      "text/plain": [
       "<Figure size 864x432 with 1 Axes>"
      ]
     },
     "metadata": {
      "needs_background": "light"
     },
     "output_type": "display_data"
    }
   ],
   "source": [
    "print(f'25 percentile:{perc25} IQR:{IQR}\\n'\n",
    "      f'75 percentile:{perc75} '\n",
    "      f'whiskers range:({start},{stop})')\n",
    "\n",
    "plt.figure(figsize=(12,6))\n",
    "cacao['Cocoa_Percent'][cacao['Cocoa_Percent'].between(start,stop)].plot(kind='hist',\n",
    "                                                                        grid=True,\n",
    "                                                                        range=(40,100),\n",
    "                                                                        label='IQR')\n",
    "cacao['Cocoa_Percent'][cacao['Cocoa_Percent'].between(0,100)].plot(kind='hist',\n",
    "                                                                   grid=True,\n",
    "                                                                   range=(40,100),\n",
    "                                                                   label='Common sense',\n",
    "                                                                   alpha=0.4,\n",
    "                                                                   color='red')\n",
    "plt.legend()\n",
    "plt.show()"
   ]
  },
  {
   "cell_type": "markdown",
   "metadata": {},
   "source": [
    "As you can see, the outlier formula in our case marks too many potentially real values as outliers, so let's use common sense here. Obviously, there was an error while collecting the data."
   ]
  },
  {
   "cell_type": "code",
   "execution_count": 291,
   "metadata": {},
   "outputs": [],
   "source": [
    "cacao = cacao.loc[cacao.Cocoa_Percent <= 100] # data clean"
   ]
  },
  {
   "cell_type": "markdown",
   "metadata": {},
   "source": [
    "# Company_Location"
   ]
  },
  {
   "cell_type": "code",
   "execution_count": 292,
   "metadata": {
    "scrolled": true
   },
   "outputs": [
    {
     "name": "stdout",
     "output_type": "stream",
     "text": [
      "Nans:0\n",
      "'':0\n",
      "'\\xa0':0\n",
      "' ':0\n"
     ]
    }
   ],
   "source": [
    "cleaner(cacao,'Cocoa_Percent') # mistake search"
   ]
  },
  {
   "cell_type": "code",
   "execution_count": 293,
   "metadata": {},
   "outputs": [
    {
     "data": {
      "image/png": "[encoded data removed]",
      "text/plain": [
       "<Figure size 432x288 with 1 Axes>"
      ]
     },
     "metadata": {
      "needs_background": "light"
     },
     "output_type": "display_data"
    }
   ],
   "source": [
    "cacao['Company_Location'].value_counts()[:10].plot(kind='bar',ylabel='Count')\n",
    "plt.show()\n",
    "# plot 10 most freq countries"
   ]
  },
  {
   "cell_type": "code",
   "execution_count": 294,
   "metadata": {},
   "outputs": [
    {
     "name": "stdout",
     "output_type": "stream",
     "text": [
      "Unique countries where companies are located: 60\n",
      "Number of countries with 10+ choc.bars in data: 14\n"
     ]
    }
   ],
   "source": [
    "print(f\"Unique countries where companies are located: {cacao.Company_Location.nunique()}\\n\" \\\n",
    "      f\"Number of countries with 10+ choc.bars in data: {(cacao.Specific_Origin.value_counts()>10).sum()}\")"
   ]
  },
  {
   "cell_type": "markdown",
   "metadata": {},
   "source": [
    "# Rating"
   ]
  },
  {
   "cell_type": "code",
   "execution_count": 295,
   "metadata": {},
   "outputs": [
    {
     "name": "stdout",
     "output_type": "stream",
     "text": [
      "Nans:0\n",
      "'':0\n",
      "'\\xa0':0\n",
      "' ':0\n"
     ]
    }
   ],
   "source": [
    "cleaner(cacao,'Rating') # mistake search"
   ]
  },
  {
   "cell_type": "code",
   "execution_count": 296,
   "metadata": {},
   "outputs": [
    {
     "data": {
      "text/plain": [
       "count    1776.000000\n",
       "mean        3.425816\n",
       "std         1.759007\n",
       "min         1.000000\n",
       "25%         3.000000\n",
       "50%         3.250000\n",
       "75%         3.500000\n",
       "max        19.750000\n",
       "Name: Rating, dtype: float64"
      ]
     },
     "execution_count": 296,
     "metadata": {},
     "output_type": "execute_result"
    },
    {
     "data": {
      "image/png": "[encoded data removed]",
      "text/plain": [
       "<Figure size 432x288 with 1 Axes>"
      ]
     },
     "metadata": {
      "needs_background": "light"
     },
     "output_type": "display_data"
    }
   ],
   "source": [
    "cacao['Rating'].plot(kind='hist')\n",
    "cacao['Rating'].describe()"
   ]
  },
  {
   "cell_type": "markdown",
   "metadata": {},
   "source": [
    "As we can see, most data are between 3 and 3.5, which can mean two things:\n",
    "1. There are otliers\n",
    "2. Five point scale was used"
   ]
  },
  {
   "cell_type": "code",
   "execution_count": 297,
   "metadata": {},
   "outputs": [],
   "source": [
    "perc25 = cacao['Rating'].quantile(0.25)\n",
    "perc75 = cacao['Rating'].quantile(0.75)\n",
    "IQR = perc75 - perc25\n",
    "start = perc25 - 1.5*IQR\n",
    "stop = perc75 + 1.5*IQR"
   ]
  },
  {
   "cell_type": "code",
   "execution_count": 298,
   "metadata": {},
   "outputs": [
    {
     "name": "stdout",
     "output_type": "stream",
     "text": [
      "25 percentile:3.0 IQR:0.5\n",
      "75 percentile:3.5 whiskers range:(2.25,4.25)\n"
     ]
    },
    {
     "data": {
      "image/png": "[encoded data removed]",
      "text/plain": [
       "<Figure size 864x576 with 1 Axes>"
      ]
     },
     "metadata": {
      "needs_background": "light"
     },
     "output_type": "display_data"
    }
   ],
   "source": [
    "'''We should compare 2 ways of dropping outliers: by IQR rule and by an idea that 5 point scale was used'''\n",
    "print(f'25 percentile:{perc25} IQR:{IQR}\\n'\n",
    "      f'75 percentile:{perc75} '\n",
    "      f'whiskers range:({start},{stop})')\n",
    "plt.figure(figsize=(12,8))\n",
    "cacao['Rating'][cacao['Rating'].between(start,stop)].plot(kind='hist',\n",
    "                                                          label='IQR',\n",
    "                                                          grid=True)\n",
    "cacao['Rating'][cacao['Rating'].between(0,5)].plot(kind='hist',\n",
    "                                                    grid=True,\n",
    "                                                    label='5 point scale',\n",
    "                                                    alpha=0.4)\n",
    "plt.legend()\n",
    "plt.show()"
   ]
  },
  {
   "cell_type": "markdown",
   "metadata": {},
   "source": [
    "We can see that IQR rule will drop some significant data, so I generally think that **5 point scale was used**"
   ]
  },
  {
   "cell_type": "code",
   "execution_count": 299,
   "metadata": {},
   "outputs": [],
   "source": [
    "cacao = cacao[cacao['Rating'].between(0,5)]"
   ]
  },
  {
   "cell_type": "code",
   "execution_count": 300,
   "metadata": {},
   "outputs": [
    {
     "data": {
      "text/plain": [
       "count    1738.000000\n",
       "mean        3.184839\n",
       "std         0.477883\n",
       "min         1.000000\n",
       "25%         2.750000\n",
       "50%         3.250000\n",
       "75%         3.500000\n",
       "max         5.000000\n",
       "Name: Rating, dtype: float64"
      ]
     },
     "execution_count": 300,
     "metadata": {},
     "output_type": "execute_result"
    }
   ],
   "source": [
    "cacao['Rating'].describe()"
   ]
  },
  {
   "cell_type": "markdown",
   "metadata": {},
   "source": [
    "# Bean_Type"
   ]
  },
  {
   "cell_type": "code",
   "execution_count": 301,
   "metadata": {},
   "outputs": [
    {
     "name": "stdout",
     "output_type": "stream",
     "text": [
      "Nans:858\n",
      "'':0\n",
      "'\\xa0':0\n",
      "' ':0\n"
     ]
    }
   ],
   "source": [
    "cleaner(cacao,'Bean_Type') # mistake search"
   ]
  },
  {
   "cell_type": "code",
   "execution_count": 304,
   "metadata": {
    "scrolled": false
   },
   "outputs": [
    {
     "data": {
      "text/plain": [
       "array([nan, 'Criollo', 'Trinitario', 'Forastero (Arriba)', 'Forastero',\n",
       "       'Forastero (Nacional)', 'Criollo, Trinitario',\n",
       "       'Criollo (Porcelana)', 'Blend', 'Trinitario (85% Criollo)',\n",
       "       'Forastero (Catongo)', 'Forastero (Parazinho)',\n",
       "       'Trinitario, Criollo', 'CCN51', 'Criollo (Ocumare)', 'Nacional',\n",
       "       'Criollo (Ocumare 61)', 'Criollo (Ocumare 77)',\n",
       "       'Criollo (Ocumare 67)', 'Criollo (Wild)', 'Beniano', 'Amazon mix',\n",
       "       'Trinitario, Forastero', 'Forastero (Arriba) ASS', 'Criollo, +',\n",
       "       'Amazon', 'Amazon, ICS', 'EET', 'Blend-Forastero,Criollo',\n",
       "       'Trinitario (Scavina)', 'Criollo, Forastero', 'Matina',\n",
       "       'Forastero(Arriba, CCN)', 'Nacional (Arriba)',\n",
       "       'Forastero (Arriba) ASSS', 'Forastero, Trinitario',\n",
       "       'Forastero (Amelonado)', 'Trinitario, Nacional',\n",
       "       'Trinitario (Amelonado)', 'Trinitario, TCGA', 'Criollo (Amarru)'],\n",
       "      dtype=object)"
      ]
     },
     "execution_count": 304,
     "metadata": {},
     "output_type": "execute_result"
    }
   ],
   "source": [
    "cacao['Bean_Type'].unique()"
   ]
  },
  {
   "cell_type": "code",
   "execution_count": 305,
   "metadata": {},
   "outputs": [
    {
     "data": {
      "text/plain": [
       "40"
      ]
     },
     "execution_count": 305,
     "metadata": {},
     "output_type": "execute_result"
    }
   ],
   "source": [
    "cacao['Bean_Type'].nunique()"
   ]
  },
  {
   "cell_type": "markdown",
   "metadata": {},
   "source": [
    "We also see that many types of beans are indicated with an explanation, for example \"Criollo (Ocumare 67)\", such values should be reduced to a general view."
   ]
  },
  {
   "cell_type": "code",
   "execution_count": 306,
   "metadata": {},
   "outputs": [],
   "source": [
    "cacao.loc[cacao['Bean_Type'].notna(),'Bean_Type'] = cacao[cacao['Bean_Type'].notna()]['Bean_Type'].apply(lambda x:x[:x.find('(')].strip() if '(' in x else x)\n",
    "# I indicate those by '(' contain"
   ]
  },
  {
   "cell_type": "code",
   "execution_count": 309,
   "metadata": {},
   "outputs": [
    {
     "data": {
      "text/plain": [
       "21"
      ]
     },
     "execution_count": 309,
     "metadata": {},
     "output_type": "execute_result"
    }
   ],
   "source": [
    "cacao['Bean_Type'].nunique() # reduced by almost half"
   ]
  },
  {
   "cell_type": "code",
   "execution_count": 310,
   "metadata": {},
   "outputs": [
    {
     "data": {
      "text/plain": [
       "array([nan, 'Criollo', 'Trinitario', 'Forastero', 'Criollo, Trinitario',\n",
       "       'Blend', 'Trinitario, Criollo', 'CCN51', 'Nacional', 'Beniano',\n",
       "       'Amazon mix', 'Trinitario, Forastero', 'Criollo, +', 'Amazon',\n",
       "       'Amazon, ICS', 'EET', 'Blend-Forastero,Criollo',\n",
       "       'Criollo, Forastero', 'Matina', 'Forastero, Trinitario',\n",
       "       'Trinitario, Nacional', 'Trinitario, TCGA'], dtype=object)"
      ]
     },
     "execution_count": 310,
     "metadata": {},
     "output_type": "execute_result"
    }
   ],
   "source": [
    "cacao['Bean_Type'].unique()"
   ]
  },
  {
   "cell_type": "markdown",
   "metadata": {},
   "source": [
    "Also some bars are made from a combination of cocoa beans, for example 'Criollo, Trinitario'. Perhaps, for further analysis, this column will need to be transformed through the get_dummies() method"
   ]
  },
  {
   "cell_type": "code",
   "execution_count": 314,
   "metadata": {},
   "outputs": [
    {
     "name": "stdout",
     "output_type": "stream",
     "text": [
      "Unique bean types: 21\n",
      "Number of bean types with 10+ choc.bars in data: 5\n"
     ]
    }
   ],
   "source": [
    "print(f\"Unique bean types: {cacao.Bean_Type.nunique()}\\n\" \\\n",
    "      f\"Number of bean types with 10+ choc.bars in data: {(cacao.Bean_Type.value_counts()>10).sum()}\")"
   ]
  },
  {
   "cell_type": "markdown",
   "metadata": {},
   "source": [
    "# Broad_Origin"
   ]
  },
  {
   "cell_type": "code",
   "execution_count": 312,
   "metadata": {},
   "outputs": [
    {
     "name": "stdout",
     "output_type": "stream",
     "text": [
      "Nans:71\n",
      "'':0\n",
      "'\\xa0':0\n",
      "' ':0\n"
     ]
    }
   ],
   "source": [
    "cleaner(cacao,'Broad_Origin') # mistake search"
   ]
  },
  {
   "cell_type": "code",
   "execution_count": 318,
   "metadata": {
    "scrolled": true
   },
   "outputs": [
    {
     "data": {
      "text/plain": [
       "array(['Togo', 'Peru', 'Venezuela', 'Cuba', 'Panama', 'Madagascar',\n",
       "       'Brazil', 'Ecuador', 'Colombia', 'Burma', 'Papua New Guinea',\n",
       "       'Bolivia', 'Fiji', 'Mexico', 'Indonesia', 'Trinidad', 'Vietnam',\n",
       "       'Nicaragua', 'Tanzania', 'Dominican Republic', 'Ghana', 'Belize',\n",
       "       nan, 'Jamaica', 'Honduras', 'Costa Rica', 'Guatemala', 'Haiti',\n",
       "       'Congo', 'Philippines', 'Domincan Republic', 'Malaysia',\n",
       "       'Dominican Rep., Bali', 'Venez,Africa,Brasil,Peru,Mex', 'Gabon',\n",
       "       'Ivory Coast', 'Carribean', 'Sri Lanka', 'Puerto Rico', 'Grenada',\n",
       "       'Sao Tome', 'Uganda', 'Martinique', 'Sao Tome & Principe',\n",
       "       'Vanuatu', 'Australia', 'Liberia', 'Ecuador, Costa Rica',\n",
       "       'West Africa', 'Hawaii', 'St. Lucia', 'Cost Rica, Ven',\n",
       "       'Peru, Madagascar', 'Venezuela, Trinidad', 'Trinidad, Tobago',\n",
       "       'Ven, Trinidad, Ecuador', 'South America, Africa', 'India',\n",
       "       'Africa, Carribean, C. Am.', 'Trinidad-Tobago',\n",
       "       'Peru, Ecuador, Venezuela', 'Venezuela, Dom. Rep.',\n",
       "       'Colombia, Ecuador', 'Solomon Islands', 'Nigeria', 'Peru, Belize',\n",
       "       'Peru, Mad., Dom. Rep.', 'PNG, Vanuatu, Mad', 'El Salvador',\n",
       "       'South America', 'Samoa', 'Ghana, Domin. Rep', 'Trinidad, Ecuador',\n",
       "       'Cameroon', 'Venezuela, Java', 'Venezuela/ Ghana',\n",
       "       'Venezuela, Ghana', 'Indonesia, Ghana',\n",
       "       'Peru(SMartin,Pangoa,nacional)', 'Principe',\n",
       "       'Central and S. America', 'Ven., Trinidad, Mad.',\n",
       "       'Carribean(DR/Jam/Tri)', 'Ghana & Madagascar',\n",
       "       'Ven.,Ecu.,Peru,Nic.', 'Madagascar & Ecuador',\n",
       "       'Guat., D.R., Peru, Mad., PNG', 'Peru, Dom. Rep',\n",
       "       'Dom. Rep., Madagascar', 'Gre., PNG, Haw., Haiti, Mad',\n",
       "       'Mad., Java, PNG', 'Ven, Bolivia, D.R.', 'DR, Ecuador, Peru',\n",
       "       'Suriname', 'Peru, Ecuador', 'Ecuador, Mad., PNG', 'Tobago',\n",
       "       'Venezuela, Carribean'], dtype=object)"
      ]
     },
     "execution_count": 318,
     "metadata": {},
     "output_type": "execute_result"
    }
   ],
   "source": [
    "cacao['Broad_Origin'].unique()"
   ]
  },
  {
   "cell_type": "markdown",
   "metadata": {},
   "source": [
    "There are repeating values with similar names e.g. 'Dom.Rep.' 'Dominican Republic'. I should fix that"
   ]
  },
  {
   "cell_type": "code",
   "execution_count": 319,
   "metadata": {},
   "outputs": [],
   "source": [
    "cacao.loc[:,'Broad_Origin'] = cacao['Broad_Origin'].apply(fix_countries)"
   ]
  },
  {
   "cell_type": "code",
   "execution_count": 321,
   "metadata": {
    "scrolled": true
   },
   "outputs": [
    {
     "data": {
      "text/plain": [
       "array(['Togo', 'Peru', 'Venezuela', 'Cuba', 'Panama', 'Madagascar',\n",
       "       'Brazil', 'Ecuador', 'Colombia', 'Burma', 'PapuaNewGuinea',\n",
       "       'Bolivia', 'Fiji', 'Mexico', 'Indonesia', 'Trinidad', 'Vietnam',\n",
       "       'Nicaragua', 'Tanzania', 'DominicanRepublic', 'Ghana', 'Belize',\n",
       "       nan, 'Jamaica', 'Honduras', 'CostaRica', 'Guatemala', 'Haiti',\n",
       "       'Congo', 'Philippines', 'Madagascarlaysia',\n",
       "       'DominicanRepublic,Bali', 'Venezuela,Africa,Brasil,Peru,Mexico',\n",
       "       'Gabon', 'IvoryCoast', 'Carribean', 'SriLanka', 'PuertoRico',\n",
       "       'Grenada', 'SaoTome', 'Uganda', 'Madagascarrtinique',\n",
       "       'SaoTome,Principe', 'Vanuatu', 'Australia', 'Liberia',\n",
       "       'Ecuador,CostaRica', 'WestAfrica', 'Hawaii', 'St.Lucia',\n",
       "       'CostRica,Venezuela', 'Peru,Madagascar', 'Venezuela,Trinidad',\n",
       "       'Trinidad,Tobago', 'Venezuela,Trinidad,Ecuador',\n",
       "       'SouthAmerica,Africa', 'India', 'Africa,Carribean,C.Am.',\n",
       "       'Trinidad-Tobago', 'Peru,Ecuador,Venezuela',\n",
       "       'Venezuela,DominicanRepublic', 'Colombia,Ecuador',\n",
       "       'SolomonIslands', 'Nigeria', 'Peru,Belize',\n",
       "       'Peru,Madagascar,DominicanRepublic',\n",
       "       'PapuaNewGuinea,Vanuatu,Madagascar', 'ElSalvador', 'SouthAmerica',\n",
       "       'Samoa', 'Ghana,DominicanRepublic', 'Trinidad,Ecuador', 'Cameroon',\n",
       "       'Venezuela,Java', 'Venezuela,Ghana', 'Indonesia,Ghana', 'Principe',\n",
       "       'CentralandS.America', 'Venezuela,Trinidad,Madagascar',\n",
       "       'Ghana,Madagascar', 'Venezuela,Ecuador,Peru,Nicaragua',\n",
       "       'Madagascar,Ecuador',\n",
       "       'Guatemala,DominicanRepublic,Peru,Madagascar,PapuaNewGuinea',\n",
       "       'Peru,DominicanRepublic', 'DominicanRepublic,Madagascar',\n",
       "       'Grenada,PapuaNewGuinea,Hawaii,Haiti,Madagascar',\n",
       "       'Madagascar,Java,PapuaNewGuinea',\n",
       "       'Venezuela,Bolivia,DominicanRepublic',\n",
       "       'DominicanRepublic,Ecuador,Peru', 'Suriname', 'Peru,Ecuador',\n",
       "       'Ecuador,Madagascar,PapuaNewGuinea', 'Tobago',\n",
       "       'Venezuela,Carribean'], dtype=object)"
      ]
     },
     "execution_count": 321,
     "metadata": {},
     "output_type": "execute_result"
    }
   ],
   "source": [
    "cacao['Broad_Origin'].unique() # there are still 'multi' values with 2 or so countries in, but i will leave it"
   ]
  },
  {
   "cell_type": "code",
   "execution_count": 323,
   "metadata": {},
   "outputs": [
    {
     "name": "stdout",
     "output_type": "stream",
     "text": [
      "Unique broad_origin: 93\n",
      "Number of broad_origin with 10+ choc.bars(rows) in data: 5\n"
     ]
    }
   ],
   "source": [
    "print(f\"Unique broad_origin: {cacao.Broad_Origin.nunique()}\\n\" \\\n",
    "      f\"Number of broad_origin with 10+ choc.bars(rows) in data: {(cacao.Bean_Type.value_counts()>10).sum()}\")"
   ]
  },
  {
   "cell_type": "markdown",
   "metadata": {},
   "source": [
    "## Summary\n",
    "Well, now i have cleaned all the columns - I've detected and deleted mistakes, briefly checked some correlations and reduced unique values for further work. I didn't fill NaNs on purpose, as there lots of ways to do it yet. Anyway, those data are ready for next analysis."
   ]
  },
  {
   "cell_type": "markdown",
   "metadata": {},
   "source": [
    "##### Save clean data to csv"
   ]
  },
  {
   "cell_type": "code",
   "execution_count": 327,
   "metadata": {},
   "outputs": [],
   "source": [
    "cacao.to_csv('cleaned.csv',index=False)"
   ]
  }
 ],
 "metadata": {
  "kernelspec": {
   "display_name": "Python 3",
   "language": "python",
   "name": "python3"
  },
  "language_info": {
   "codemirror_mode": {
    "name": "ipython",
    "version": 3
   },
   "file_extension": ".py",
   "mimetype": "text/x-python",
   "name": "python",
   "nbconvert_exporter": "python",
   "pygments_lexer": "ipython3",
   "version": "3.8.5"
  }
 },
 "nbformat": 4,
 "nbformat_minor": 4
}
