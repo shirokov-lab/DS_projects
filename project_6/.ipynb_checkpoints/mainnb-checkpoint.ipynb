{
 "cells": [
  {
   "cell_type": "markdown",
   "metadata": {
    "papermill": {
     "duration": 0.046493,
     "end_time": "2021-05-24T15:45:18.644002",
     "exception": false,
     "start_time": "2021-05-24T15:45:18.597509",
     "status": "completed"
    },
    "tags": []
   },
   "source": [
    "# Credit scoring task\n",
    "\n",
    "features:\n",
    "* client_id - идентификатор клиента\n",
    "* education - уровень образования\n",
    "* sex - пол заемщика\n",
    "* age - возраст заемщика\n",
    "* car - флаг наличия автомобиля\n",
    "* car_type - флаг автомобиля иномарки\n",
    "* decline_app_cnt - количество отказанных прошлых заявок\n",
    "* good_work - флаг наличия “хорошей” работы\n",
    "* bki_request_cnt - количество запросов в БКИ\n",
    "* home_address - категоризатор домашнего адреса\n",
    "* work_address - категоризатор рабочего адреса\n",
    "* income - доход заемщика\n",
    "* foreign_passport - наличие загранпаспорта\n",
    "* sna - связь заемщика с клиентами банка\n",
    "* first_time - давность наличия информации о заемщике\n",
    "* score_bki - скоринговый балл по данным из БКИ\n",
    "* region_rating - рейтинг региона\n",
    "* app_date - дата подачи заявки\n",
    "* default - флаг дефолта по кредиту [target binar]"
   ]
  },
  {
   "cell_type": "markdown",
   "metadata": {
    "papermill": {
     "duration": 0.046722,
     "end_time": "2021-05-24T15:45:18.737853",
     "exception": false,
     "start_time": "2021-05-24T15:45:18.691131",
     "status": "completed"
    },
    "tags": []
   },
   "source": [
    "# Import libraries"
   ]
  },
  {
   "cell_type": "code",
   "execution_count": 2,
   "metadata": {
    "execution": {
     "iopub.execute_input": "2021-05-24T15:45:18.836967Z",
     "iopub.status.busy": "2021-05-24T15:45:18.836331Z",
     "iopub.status.idle": "2021-05-24T15:45:20.082807Z",
     "shell.execute_reply": "2021-05-24T15:45:20.083581Z",
     "shell.execute_reply.started": "2021-05-24T15:38:27.825507Z"
    },
    "papermill": {
     "duration": 1.298803,
     "end_time": "2021-05-24T15:45:20.083817",
     "exception": false,
     "start_time": "2021-05-24T15:45:18.785014",
     "status": "completed"
    },
    "tags": []
   },
   "outputs": [
    {
     "name": "stdout",
     "output_type": "stream",
     "text": [
      "/kaggle/input/sf-dst-scoring/sample_submission.csv\n",
      "/kaggle/input/sf-dst-scoring/train.csv\n",
      "/kaggle/input/sf-dst-scoring/test.csv\n"
     ]
    }
   ],
   "source": [
    "from pandas import Series \n",
    "import pandas as pd\n",
    "import numpy as np\n",
    "\n",
    "import matplotlib.pyplot as plt\n",
    "import seaborn as sns\n",
    "\n",
    "from sklearn.feature_selection import f_classif, mutual_info_classif\n",
    "from sklearn.preprocessing import LabelEncoder, OneHotEncoder, StandardScaler\n",
    "\n",
    "from sklearn.model_selection import train_test_split\n",
    "from sklearn.linear_model import LogisticRegression\n",
    "\n",
    "\n",
    "from sklearn.metrics import confusion_matrix, auc, roc_auc_score, roc_curve\n",
    "from sklearn.metrics import accuracy_score, precision_score, recall_score, f1_score\n",
    "\n",
    "import warnings\n",
    "warnings.filterwarnings(\"ignore\") \n"
   ]
  },
  {
   "cell_type": "markdown",
   "metadata": {
    "papermill": {
     "duration": 0.047412,
     "end_time": "2021-05-24T15:45:20.180025",
     "exception": false,
     "start_time": "2021-05-24T15:45:20.132613",
     "status": "completed"
    },
    "tags": []
   },
   "source": [
    "# Def functions"
   ]
  },
  {
   "cell_type": "code",
   "execution_count": 3,
   "metadata": {
    "execution": {
     "iopub.execute_input": "2021-05-24T15:45:20.282553Z",
     "iopub.status.busy": "2021-05-24T15:45:20.281776Z",
     "iopub.status.idle": "2021-05-24T15:45:20.284977Z",
     "shell.execute_reply": "2021-05-24T15:45:20.284370Z",
     "shell.execute_reply.started": "2021-05-24T15:38:29.049837Z"
    },
    "papermill": {
     "duration": 0.057558,
     "end_time": "2021-05-24T15:45:20.285129",
     "exception": false,
     "start_time": "2021-05-24T15:45:20.227571",
     "status": "completed"
    },
    "tags": []
   },
   "outputs": [],
   "source": [
    "def basic_info(train_df,test_df):\n",
    "    print('info for TRAIN data:')\n",
    "    display(train_df.describe())\n",
    "    display(train_df.info())\n",
    "    display(train_df.sample(2))\n",
    "    display(train_df.isna().sum())\n",
    "    print('info for TEST data:')\n",
    "    display(test_df.describe())\n",
    "    display(test_df.info())\n",
    "    display(test_df.sample(2))\n",
    "    display(test_df.isna().sum())"
   ]
  },
  {
   "cell_type": "markdown",
   "metadata": {
    "papermill": {
     "duration": 0.047131,
     "end_time": "2021-05-24T15:45:20.379995",
     "exception": false,
     "start_time": "2021-05-24T15:45:20.332864",
     "status": "completed"
    },
    "tags": []
   },
   "source": [
    "# Load data and set up settings"
   ]
  },
  {
   "cell_type": "code",
   "execution_count": 4,
   "metadata": {
    "execution": {
     "iopub.execute_input": "2021-05-24T15:45:20.480186Z",
     "iopub.status.busy": "2021-05-24T15:45:20.479401Z",
     "iopub.status.idle": "2021-05-24T15:45:20.838735Z",
     "shell.execute_reply": "2021-05-24T15:45:20.838051Z",
     "shell.execute_reply.started": "2021-05-24T15:38:29.057842Z"
    },
    "papermill": {
     "duration": 0.411682,
     "end_time": "2021-05-24T15:45:20.838926",
     "exception": false,
     "start_time": "2021-05-24T15:45:20.427244",
     "status": "completed"
    },
    "tags": []
   },
   "outputs": [],
   "source": [
    "train = pd.read_csv('/kaggle/input/sf-dst-scoring/train.csv')\n",
    "test= pd.read_csv('/kaggle/input/sf-dst-scoring/test.csv')\n",
    "sample_submission = pd.read_csv('/kaggle/input/sf-dst-scoring/sample_submission.csv')"
   ]
  },
  {
   "cell_type": "code",
   "execution_count": 5,
   "metadata": {
    "execution": {
     "iopub.execute_input": "2021-05-24T15:45:20.938895Z",
     "iopub.status.busy": "2021-05-24T15:45:20.937872Z",
     "iopub.status.idle": "2021-05-24T15:45:20.941910Z",
     "shell.execute_reply": "2021-05-24T15:45:20.942360Z",
     "shell.execute_reply.started": "2021-05-24T15:38:29.345949Z"
    },
    "papermill": {
     "duration": 0.055538,
     "end_time": "2021-05-24T15:45:20.942586",
     "exception": false,
     "start_time": "2021-05-24T15:45:20.887048",
     "status": "completed"
    },
    "tags": []
   },
   "outputs": [],
   "source": [
    "# Lock a RANDOM SEED to keep it reproducible.\n",
    "RANDOM_SEED = 420"
   ]
  },
  {
   "cell_type": "code",
   "execution_count": 6,
   "metadata": {
    "execution": {
     "iopub.execute_input": "2021-05-24T15:45:21.042506Z",
     "iopub.status.busy": "2021-05-24T15:45:21.041449Z",
     "iopub.status.idle": "2021-05-24T15:45:23.788921Z",
     "shell.execute_reply": "2021-05-24T15:45:23.787372Z",
     "shell.execute_reply.started": "2021-05-24T15:38:29.350469Z"
    },
    "papermill": {
     "duration": 2.799062,
     "end_time": "2021-05-24T15:45:23.789090",
     "exception": false,
     "start_time": "2021-05-24T15:45:20.990028",
     "status": "completed"
    },
    "tags": []
   },
   "outputs": [],
   "source": [
    "# fix the version of the packages so that the experiments are reproducible:\n",
    "!pip freeze > requirements.txt"
   ]
  },
  {
   "cell_type": "code",
   "execution_count": 7,
   "metadata": {
    "execution": {
     "iopub.execute_input": "2021-05-24T15:45:23.914006Z",
     "iopub.status.busy": "2021-05-24T15:45:23.913340Z",
     "iopub.status.idle": "2021-05-24T15:45:24.005296Z",
     "shell.execute_reply": "2021-05-24T15:45:24.004735Z",
     "shell.execute_reply.started": "2021-05-24T15:38:31.774713Z"
    },
    "papermill": {
     "duration": 0.168304,
     "end_time": "2021-05-24T15:45:24.005438",
     "exception": false,
     "start_time": "2021-05-24T15:45:23.837134",
     "status": "completed"
    },
    "tags": []
   },
   "outputs": [
    {
     "data": {
      "image/png": "[encoded data removed]",
      "text/plain": [
       "<Figure size 720x72 with 1 Axes>"
      ]
     },
     "metadata": {
      "needs_background": "light"
     },
     "output_type": "display_data"
    }
   ],
   "source": [
    "# choose colors\n",
    "sequential_colors = sns.color_palette(\"bright\", 10)\n",
    "sns.set_palette(sequential_colors)\n",
    "sns.palplot(sequential_colors)"
   ]
  },
  {
   "cell_type": "markdown",
   "metadata": {
    "papermill": {
     "duration": 0.048937,
     "end_time": "2021-05-24T15:45:24.102729",
     "exception": false,
     "start_time": "2021-05-24T15:45:24.053792",
     "status": "completed"
    },
    "tags": []
   },
   "source": [
    "# Explore data"
   ]
  },
  {
   "cell_type": "code",
   "execution_count": 8,
   "metadata": {
    "execution": {
     "iopub.execute_input": "2021-05-24T15:45:24.220924Z",
     "iopub.status.busy": "2021-05-24T15:45:24.219727Z",
     "iopub.status.idle": "2021-05-24T15:45:24.552804Z",
     "shell.execute_reply": "2021-05-24T15:45:24.552236Z",
     "shell.execute_reply.started": "2021-05-24T15:38:31.876838Z"
    },
    "papermill": {
     "duration": 0.40171,
     "end_time": "2021-05-24T15:45:24.552957",
     "exception": false,
     "start_time": "2021-05-24T15:45:24.151247",
     "status": "completed"
    },
    "tags": []
   },
   "outputs": [
    {
     "name": "stdout",
     "output_type": "stream",
     "text": [
      "info for TRAIN data:\n"
     ]
    },
    {
     "data": {
      "text/html": [
       "<div>\n",
       "<style scoped>\n",
       "    .dataframe tbody tr th:only-of-type {\n",
       "        vertical-align: middle;\n",
       "    }\n",
       "\n",
       "    .dataframe tbody tr th {\n",
       "        vertical-align: top;\n",
       "    }\n",
       "\n",
       "    .dataframe thead th {\n",
       "        text-align: right;\n",
       "    }\n",
       "</style>\n",
       "<table border=\"1\" class=\"dataframe\">\n",
       "  <thead>\n",
       "    <tr style=\"text-align: right;\">\n",
       "      <th></th>\n",
       "      <th>client_id</th>\n",
       "      <th>age</th>\n",
       "      <th>decline_app_cnt</th>\n",
       "      <th>good_work</th>\n",
       "      <th>score_bki</th>\n",
       "      <th>bki_request_cnt</th>\n",
       "      <th>region_rating</th>\n",
       "      <th>home_address</th>\n",
       "      <th>work_address</th>\n",
       "      <th>income</th>\n",
       "      <th>sna</th>\n",
       "      <th>first_time</th>\n",
       "      <th>default</th>\n",
       "    </tr>\n",
       "  </thead>\n",
       "  <tbody>\n",
       "    <tr>\n",
       "      <th>count</th>\n",
       "      <td>73799.000000</td>\n",
       "      <td>73799.000000</td>\n",
       "      <td>73799.000000</td>\n",
       "      <td>73799.000000</td>\n",
       "      <td>73799.000000</td>\n",
       "      <td>73799.000000</td>\n",
       "      <td>73799.000000</td>\n",
       "      <td>73799.000000</td>\n",
       "      <td>73799.000000</td>\n",
       "      <td>73799.000000</td>\n",
       "      <td>73799.000000</td>\n",
       "      <td>73799.000000</td>\n",
       "      <td>73799.000000</td>\n",
       "    </tr>\n",
       "    <tr>\n",
       "      <th>mean</th>\n",
       "      <td>55137.965094</td>\n",
       "      <td>39.280641</td>\n",
       "      <td>0.275749</td>\n",
       "      <td>0.164894</td>\n",
       "      <td>-1.904724</td>\n",
       "      <td>2.000339</td>\n",
       "      <td>56.725701</td>\n",
       "      <td>1.575509</td>\n",
       "      <td>2.496280</td>\n",
       "      <td>41099.775417</td>\n",
       "      <td>1.733330</td>\n",
       "      <td>2.765458</td>\n",
       "      <td>0.126994</td>\n",
       "    </tr>\n",
       "    <tr>\n",
       "      <th>std</th>\n",
       "      <td>31841.921168</td>\n",
       "      <td>11.520378</td>\n",
       "      <td>0.804272</td>\n",
       "      <td>0.371087</td>\n",
       "      <td>0.498231</td>\n",
       "      <td>2.252073</td>\n",
       "      <td>13.055717</td>\n",
       "      <td>0.527631</td>\n",
       "      <td>0.689818</td>\n",
       "      <td>46166.322400</td>\n",
       "      <td>1.123622</td>\n",
       "      <td>1.009463</td>\n",
       "      <td>0.332968</td>\n",
       "    </tr>\n",
       "    <tr>\n",
       "      <th>min</th>\n",
       "      <td>1.000000</td>\n",
       "      <td>21.000000</td>\n",
       "      <td>0.000000</td>\n",
       "      <td>0.000000</td>\n",
       "      <td>-3.624586</td>\n",
       "      <td>0.000000</td>\n",
       "      <td>20.000000</td>\n",
       "      <td>1.000000</td>\n",
       "      <td>1.000000</td>\n",
       "      <td>1000.000000</td>\n",
       "      <td>1.000000</td>\n",
       "      <td>1.000000</td>\n",
       "      <td>0.000000</td>\n",
       "    </tr>\n",
       "    <tr>\n",
       "      <th>25%</th>\n",
       "      <td>27440.500000</td>\n",
       "      <td>30.000000</td>\n",
       "      <td>0.000000</td>\n",
       "      <td>0.000000</td>\n",
       "      <td>-2.259534</td>\n",
       "      <td>0.000000</td>\n",
       "      <td>50.000000</td>\n",
       "      <td>1.000000</td>\n",
       "      <td>2.000000</td>\n",
       "      <td>20000.000000</td>\n",
       "      <td>1.000000</td>\n",
       "      <td>2.000000</td>\n",
       "      <td>0.000000</td>\n",
       "    </tr>\n",
       "    <tr>\n",
       "      <th>50%</th>\n",
       "      <td>55274.000000</td>\n",
       "      <td>37.000000</td>\n",
       "      <td>0.000000</td>\n",
       "      <td>0.000000</td>\n",
       "      <td>-1.920823</td>\n",
       "      <td>1.000000</td>\n",
       "      <td>50.000000</td>\n",
       "      <td>2.000000</td>\n",
       "      <td>3.000000</td>\n",
       "      <td>30000.000000</td>\n",
       "      <td>1.000000</td>\n",
       "      <td>3.000000</td>\n",
       "      <td>0.000000</td>\n",
       "    </tr>\n",
       "    <tr>\n",
       "      <th>75%</th>\n",
       "      <td>82758.500000</td>\n",
       "      <td>48.000000</td>\n",
       "      <td>0.000000</td>\n",
       "      <td>0.000000</td>\n",
       "      <td>-1.569831</td>\n",
       "      <td>3.000000</td>\n",
       "      <td>60.000000</td>\n",
       "      <td>2.000000</td>\n",
       "      <td>3.000000</td>\n",
       "      <td>48000.000000</td>\n",
       "      <td>2.000000</td>\n",
       "      <td>4.000000</td>\n",
       "      <td>0.000000</td>\n",
       "    </tr>\n",
       "    <tr>\n",
       "      <th>max</th>\n",
       "      <td>110147.000000</td>\n",
       "      <td>72.000000</td>\n",
       "      <td>33.000000</td>\n",
       "      <td>1.000000</td>\n",
       "      <td>0.199773</td>\n",
       "      <td>53.000000</td>\n",
       "      <td>80.000000</td>\n",
       "      <td>3.000000</td>\n",
       "      <td>3.000000</td>\n",
       "      <td>1000000.000000</td>\n",
       "      <td>4.000000</td>\n",
       "      <td>4.000000</td>\n",
       "      <td>1.000000</td>\n",
       "    </tr>\n",
       "  </tbody>\n",
       "</table>\n",
       "</div>"
      ],
      "text/plain": [
       "           client_id           age  decline_app_cnt     good_work  \\\n",
       "count   73799.000000  73799.000000     73799.000000  73799.000000   \n",
       "mean    55137.965094     39.280641         0.275749      0.164894   \n",
       "std     31841.921168     11.520378         0.804272      0.371087   \n",
       "min         1.000000     21.000000         0.000000      0.000000   \n",
       "25%     27440.500000     30.000000         0.000000      0.000000   \n",
       "50%     55274.000000     37.000000         0.000000      0.000000   \n",
       "75%     82758.500000     48.000000         0.000000      0.000000   \n",
       "max    110147.000000     72.000000        33.000000      1.000000   \n",
       "\n",
       "          score_bki  bki_request_cnt  region_rating  home_address  \\\n",
       "count  73799.000000     73799.000000   73799.000000  73799.000000   \n",
       "mean      -1.904724         2.000339      56.725701      1.575509   \n",
       "std        0.498231         2.252073      13.055717      0.527631   \n",
       "min       -3.624586         0.000000      20.000000      1.000000   \n",
       "25%       -2.259534         0.000000      50.000000      1.000000   \n",
       "50%       -1.920823         1.000000      50.000000      2.000000   \n",
       "75%       -1.569831         3.000000      60.000000      2.000000   \n",
       "max        0.199773        53.000000      80.000000      3.000000   \n",
       "\n",
       "       work_address          income           sna    first_time       default  \n",
       "count  73799.000000    73799.000000  73799.000000  73799.000000  73799.000000  \n",
       "mean       2.496280    41099.775417      1.733330      2.765458      0.126994  \n",
       "std        0.689818    46166.322400      1.123622      1.009463      0.332968  \n",
       "min        1.000000     1000.000000      1.000000      1.000000      0.000000  \n",
       "25%        2.000000    20000.000000      1.000000      2.000000      0.000000  \n",
       "50%        3.000000    30000.000000      1.000000      3.000000      0.000000  \n",
       "75%        3.000000    48000.000000      2.000000      4.000000      0.000000  \n",
       "max        3.000000  1000000.000000      4.000000      4.000000      1.000000  "
      ]
     },
     "metadata": {},
     "output_type": "display_data"
    },
    {
     "name": "stdout",
     "output_type": "stream",
     "text": [
      "<class 'pandas.core.frame.DataFrame'>\n",
      "RangeIndex: 73799 entries, 0 to 73798\n",
      "Data columns (total 19 columns):\n",
      " #   Column            Non-Null Count  Dtype  \n",
      "---  ------            --------------  -----  \n",
      " 0   client_id         73799 non-null  int64  \n",
      " 1   app_date          73799 non-null  object \n",
      " 2   education         73492 non-null  object \n",
      " 3   sex               73799 non-null  object \n",
      " 4   age               73799 non-null  int64  \n",
      " 5   car               73799 non-null  object \n",
      " 6   car_type          73799 non-null  object \n",
      " 7   decline_app_cnt   73799 non-null  int64  \n",
      " 8   good_work         73799 non-null  int64  \n",
      " 9   score_bki         73799 non-null  float64\n",
      " 10  bki_request_cnt   73799 non-null  int64  \n",
      " 11  region_rating     73799 non-null  int64  \n",
      " 12  home_address      73799 non-null  int64  \n",
      " 13  work_address      73799 non-null  int64  \n",
      " 14  income            73799 non-null  int64  \n",
      " 15  sna               73799 non-null  int64  \n",
      " 16  first_time        73799 non-null  int64  \n",
      " 17  foreign_passport  73799 non-null  object \n",
      " 18  default           73799 non-null  int64  \n",
      "dtypes: float64(1), int64(12), object(6)\n",
      "memory usage: 10.7+ MB\n"
     ]
    },
    {
     "data": {
      "text/plain": [
       "None"
      ]
     },
     "metadata": {},
     "output_type": "display_data"
    },
    {
     "data": {
      "text/html": [
       "<div>\n",
       "<style scoped>\n",
       "    .dataframe tbody tr th:only-of-type {\n",
       "        vertical-align: middle;\n",
       "    }\n",
       "\n",
       "    .dataframe tbody tr th {\n",
       "        vertical-align: top;\n",
       "    }\n",
       "\n",
       "    .dataframe thead th {\n",
       "        text-align: right;\n",
       "    }\n",
       "</style>\n",
       "<table border=\"1\" class=\"dataframe\">\n",
       "  <thead>\n",
       "    <tr style=\"text-align: right;\">\n",
       "      <th></th>\n",
       "      <th>client_id</th>\n",
       "      <th>app_date</th>\n",
       "      <th>education</th>\n",
       "      <th>sex</th>\n",
       "      <th>age</th>\n",
       "      <th>car</th>\n",
       "      <th>car_type</th>\n",
       "      <th>decline_app_cnt</th>\n",
       "      <th>good_work</th>\n",
       "      <th>score_bki</th>\n",
       "      <th>bki_request_cnt</th>\n",
       "      <th>region_rating</th>\n",
       "      <th>home_address</th>\n",
       "      <th>work_address</th>\n",
       "      <th>income</th>\n",
       "      <th>sna</th>\n",
       "      <th>first_time</th>\n",
       "      <th>foreign_passport</th>\n",
       "      <th>default</th>\n",
       "    </tr>\n",
       "  </thead>\n",
       "  <tbody>\n",
       "    <tr>\n",
       "      <th>10309</th>\n",
       "      <td>13379</td>\n",
       "      <td>21JAN2014</td>\n",
       "      <td>SCH</td>\n",
       "      <td>F</td>\n",
       "      <td>40</td>\n",
       "      <td>N</td>\n",
       "      <td>N</td>\n",
       "      <td>0</td>\n",
       "      <td>0</td>\n",
       "      <td>-1.767234</td>\n",
       "      <td>5</td>\n",
       "      <td>40</td>\n",
       "      <td>1</td>\n",
       "      <td>2</td>\n",
       "      <td>10000</td>\n",
       "      <td>2</td>\n",
       "      <td>2</td>\n",
       "      <td>N</td>\n",
       "      <td>0</td>\n",
       "    </tr>\n",
       "    <tr>\n",
       "      <th>56382</th>\n",
       "      <td>35576</td>\n",
       "      <td>11FEB2014</td>\n",
       "      <td>GRD</td>\n",
       "      <td>F</td>\n",
       "      <td>56</td>\n",
       "      <td>N</td>\n",
       "      <td>N</td>\n",
       "      <td>0</td>\n",
       "      <td>1</td>\n",
       "      <td>-2.211192</td>\n",
       "      <td>1</td>\n",
       "      <td>50</td>\n",
       "      <td>1</td>\n",
       "      <td>1</td>\n",
       "      <td>35000</td>\n",
       "      <td>2</td>\n",
       "      <td>4</td>\n",
       "      <td>N</td>\n",
       "      <td>0</td>\n",
       "    </tr>\n",
       "  </tbody>\n",
       "</table>\n",
       "</div>"
      ],
      "text/plain": [
       "       client_id   app_date education sex  age car car_type  decline_app_cnt  \\\n",
       "10309      13379  21JAN2014       SCH   F   40   N        N                0   \n",
       "56382      35576  11FEB2014       GRD   F   56   N        N                0   \n",
       "\n",
       "       good_work  score_bki  bki_request_cnt  region_rating  home_address  \\\n",
       "10309          0  -1.767234                5             40             1   \n",
       "56382          1  -2.211192                1             50             1   \n",
       "\n",
       "       work_address  income  sna  first_time foreign_passport  default  \n",
       "10309             2   10000    2           2                N        0  \n",
       "56382             1   35000    2           4                N        0  "
      ]
     },
     "metadata": {},
     "output_type": "display_data"
    },
    {
     "data": {
      "text/plain": [
       "client_id             0\n",
       "app_date              0\n",
       "education           307\n",
       "sex                   0\n",
       "age                   0\n",
       "car                   0\n",
       "car_type              0\n",
       "decline_app_cnt       0\n",
       "good_work             0\n",
       "score_bki             0\n",
       "bki_request_cnt       0\n",
       "region_rating         0\n",
       "home_address          0\n",
       "work_address          0\n",
       "income                0\n",
       "sna                   0\n",
       "first_time            0\n",
       "foreign_passport      0\n",
       "default               0\n",
       "dtype: int64"
      ]
     },
     "metadata": {},
     "output_type": "display_data"
    },
    {
     "name": "stdout",
     "output_type": "stream",
     "text": [
      "info for TEST data:\n"
     ]
    },
    {
     "data": {
      "text/html": [
       "<div>\n",
       "<style scoped>\n",
       "    .dataframe tbody tr th:only-of-type {\n",
       "        vertical-align: middle;\n",
       "    }\n",
       "\n",
       "    .dataframe tbody tr th {\n",
       "        vertical-align: top;\n",
       "    }\n",
       "\n",
       "    .dataframe thead th {\n",
       "        text-align: right;\n",
       "    }\n",
       "</style>\n",
       "<table border=\"1\" class=\"dataframe\">\n",
       "  <thead>\n",
       "    <tr style=\"text-align: right;\">\n",
       "      <th></th>\n",
       "      <th>client_id</th>\n",
       "      <th>age</th>\n",
       "      <th>decline_app_cnt</th>\n",
       "      <th>good_work</th>\n",
       "      <th>score_bki</th>\n",
       "      <th>bki_request_cnt</th>\n",
       "      <th>region_rating</th>\n",
       "      <th>home_address</th>\n",
       "      <th>work_address</th>\n",
       "      <th>income</th>\n",
       "      <th>sna</th>\n",
       "      <th>first_time</th>\n",
       "    </tr>\n",
       "  </thead>\n",
       "  <tbody>\n",
       "    <tr>\n",
       "      <th>count</th>\n",
       "      <td>36349.000000</td>\n",
       "      <td>36349.000000</td>\n",
       "      <td>36349.000000</td>\n",
       "      <td>36349.000000</td>\n",
       "      <td>36349.000000</td>\n",
       "      <td>36349.000000</td>\n",
       "      <td>36349.000000</td>\n",
       "      <td>36349.000000</td>\n",
       "      <td>36349.000000</td>\n",
       "      <td>36349.000000</td>\n",
       "      <td>36349.000000</td>\n",
       "      <td>36349.000000</td>\n",
       "    </tr>\n",
       "    <tr>\n",
       "      <th>mean</th>\n",
       "      <td>54945.647473</td>\n",
       "      <td>39.186002</td>\n",
       "      <td>0.268040</td>\n",
       "      <td>0.166772</td>\n",
       "      <td>-1.904152</td>\n",
       "      <td>2.014471</td>\n",
       "      <td>56.802938</td>\n",
       "      <td>1.573798</td>\n",
       "      <td>2.501087</td>\n",
       "      <td>40835.755729</td>\n",
       "      <td>1.728053</td>\n",
       "      <td>2.765798</td>\n",
       "    </tr>\n",
       "    <tr>\n",
       "      <th>std</th>\n",
       "      <td>31706.052195</td>\n",
       "      <td>11.513258</td>\n",
       "      <td>0.788478</td>\n",
       "      <td>0.372777</td>\n",
       "      <td>0.501764</td>\n",
       "      <td>2.296789</td>\n",
       "      <td>13.086646</td>\n",
       "      <td>0.527428</td>\n",
       "      <td>0.683227</td>\n",
       "      <td>43802.180951</td>\n",
       "      <td>1.120686</td>\n",
       "      <td>1.011560</td>\n",
       "    </tr>\n",
       "    <tr>\n",
       "      <th>min</th>\n",
       "      <td>4.000000</td>\n",
       "      <td>21.000000</td>\n",
       "      <td>0.000000</td>\n",
       "      <td>0.000000</td>\n",
       "      <td>-3.574197</td>\n",
       "      <td>0.000000</td>\n",
       "      <td>20.000000</td>\n",
       "      <td>1.000000</td>\n",
       "      <td>1.000000</td>\n",
       "      <td>1000.000000</td>\n",
       "      <td>1.000000</td>\n",
       "      <td>1.000000</td>\n",
       "    </tr>\n",
       "    <tr>\n",
       "      <th>25%</th>\n",
       "      <td>27744.000000</td>\n",
       "      <td>30.000000</td>\n",
       "      <td>0.000000</td>\n",
       "      <td>0.000000</td>\n",
       "      <td>-2.261909</td>\n",
       "      <td>0.000000</td>\n",
       "      <td>50.000000</td>\n",
       "      <td>1.000000</td>\n",
       "      <td>2.000000</td>\n",
       "      <td>20000.000000</td>\n",
       "      <td>1.000000</td>\n",
       "      <td>2.000000</td>\n",
       "    </tr>\n",
       "    <tr>\n",
       "      <th>50%</th>\n",
       "      <td>54657.000000</td>\n",
       "      <td>37.000000</td>\n",
       "      <td>0.000000</td>\n",
       "      <td>0.000000</td>\n",
       "      <td>-1.920823</td>\n",
       "      <td>1.000000</td>\n",
       "      <td>50.000000</td>\n",
       "      <td>2.000000</td>\n",
       "      <td>3.000000</td>\n",
       "      <td>30000.000000</td>\n",
       "      <td>1.000000</td>\n",
       "      <td>3.000000</td>\n",
       "    </tr>\n",
       "    <tr>\n",
       "      <th>75%</th>\n",
       "      <td>82322.000000</td>\n",
       "      <td>48.000000</td>\n",
       "      <td>0.000000</td>\n",
       "      <td>0.000000</td>\n",
       "      <td>-1.563957</td>\n",
       "      <td>3.000000</td>\n",
       "      <td>60.000000</td>\n",
       "      <td>2.000000</td>\n",
       "      <td>3.000000</td>\n",
       "      <td>48000.000000</td>\n",
       "      <td>2.000000</td>\n",
       "      <td>4.000000</td>\n",
       "    </tr>\n",
       "    <tr>\n",
       "      <th>max</th>\n",
       "      <td>110148.000000</td>\n",
       "      <td>71.000000</td>\n",
       "      <td>30.000000</td>\n",
       "      <td>1.000000</td>\n",
       "      <td>0.188820</td>\n",
       "      <td>47.000000</td>\n",
       "      <td>80.000000</td>\n",
       "      <td>3.000000</td>\n",
       "      <td>3.000000</td>\n",
       "      <td>1000000.000000</td>\n",
       "      <td>4.000000</td>\n",
       "      <td>4.000000</td>\n",
       "    </tr>\n",
       "  </tbody>\n",
       "</table>\n",
       "</div>"
      ],
      "text/plain": [
       "           client_id           age  decline_app_cnt     good_work  \\\n",
       "count   36349.000000  36349.000000     36349.000000  36349.000000   \n",
       "mean    54945.647473     39.186002         0.268040      0.166772   \n",
       "std     31706.052195     11.513258         0.788478      0.372777   \n",
       "min         4.000000     21.000000         0.000000      0.000000   \n",
       "25%     27744.000000     30.000000         0.000000      0.000000   \n",
       "50%     54657.000000     37.000000         0.000000      0.000000   \n",
       "75%     82322.000000     48.000000         0.000000      0.000000   \n",
       "max    110148.000000     71.000000        30.000000      1.000000   \n",
       "\n",
       "          score_bki  bki_request_cnt  region_rating  home_address  \\\n",
       "count  36349.000000     36349.000000   36349.000000  36349.000000   \n",
       "mean      -1.904152         2.014471      56.802938      1.573798   \n",
       "std        0.501764         2.296789      13.086646      0.527428   \n",
       "min       -3.574197         0.000000      20.000000      1.000000   \n",
       "25%       -2.261909         0.000000      50.000000      1.000000   \n",
       "50%       -1.920823         1.000000      50.000000      2.000000   \n",
       "75%       -1.563957         3.000000      60.000000      2.000000   \n",
       "max        0.188820        47.000000      80.000000      3.000000   \n",
       "\n",
       "       work_address          income           sna    first_time  \n",
       "count  36349.000000    36349.000000  36349.000000  36349.000000  \n",
       "mean       2.501087    40835.755729      1.728053      2.765798  \n",
       "std        0.683227    43802.180951      1.120686      1.011560  \n",
       "min        1.000000     1000.000000      1.000000      1.000000  \n",
       "25%        2.000000    20000.000000      1.000000      2.000000  \n",
       "50%        3.000000    30000.000000      1.000000      3.000000  \n",
       "75%        3.000000    48000.000000      2.000000      4.000000  \n",
       "max        3.000000  1000000.000000      4.000000      4.000000  "
      ]
     },
     "metadata": {},
     "output_type": "display_data"
    },
    {
     "name": "stdout",
     "output_type": "stream",
     "text": [
      "<class 'pandas.core.frame.DataFrame'>\n",
      "RangeIndex: 36349 entries, 0 to 36348\n",
      "Data columns (total 18 columns):\n",
      " #   Column            Non-Null Count  Dtype  \n",
      "---  ------            --------------  -----  \n",
      " 0   client_id         36349 non-null  int64  \n",
      " 1   app_date          36349 non-null  object \n",
      " 2   education         36178 non-null  object \n",
      " 3   sex               36349 non-null  object \n",
      " 4   age               36349 non-null  int64  \n",
      " 5   car               36349 non-null  object \n",
      " 6   car_type          36349 non-null  object \n",
      " 7   decline_app_cnt   36349 non-null  int64  \n",
      " 8   good_work         36349 non-null  int64  \n",
      " 9   score_bki         36349 non-null  float64\n",
      " 10  bki_request_cnt   36349 non-null  int64  \n",
      " 11  region_rating     36349 non-null  int64  \n",
      " 12  home_address      36349 non-null  int64  \n",
      " 13  work_address      36349 non-null  int64  \n",
      " 14  income            36349 non-null  int64  \n",
      " 15  sna               36349 non-null  int64  \n",
      " 16  first_time        36349 non-null  int64  \n",
      " 17  foreign_passport  36349 non-null  object \n",
      "dtypes: float64(1), int64(11), object(6)\n",
      "memory usage: 5.0+ MB\n"
     ]
    },
    {
     "data": {
      "text/plain": [
       "None"
      ]
     },
     "metadata": {},
     "output_type": "display_data"
    },
    {
     "data": {
      "text/html": [
       "<div>\n",
       "<style scoped>\n",
       "    .dataframe tbody tr th:only-of-type {\n",
       "        vertical-align: middle;\n",
       "    }\n",
       "\n",
       "    .dataframe tbody tr th {\n",
       "        vertical-align: top;\n",
       "    }\n",
       "\n",
       "    .dataframe thead th {\n",
       "        text-align: right;\n",
       "    }\n",
       "</style>\n",
       "<table border=\"1\" class=\"dataframe\">\n",
       "  <thead>\n",
       "    <tr style=\"text-align: right;\">\n",
       "      <th></th>\n",
       "      <th>client_id</th>\n",
       "      <th>app_date</th>\n",
       "      <th>education</th>\n",
       "      <th>sex</th>\n",
       "      <th>age</th>\n",
       "      <th>car</th>\n",
       "      <th>car_type</th>\n",
       "      <th>decline_app_cnt</th>\n",
       "      <th>good_work</th>\n",
       "      <th>score_bki</th>\n",
       "      <th>bki_request_cnt</th>\n",
       "      <th>region_rating</th>\n",
       "      <th>home_address</th>\n",
       "      <th>work_address</th>\n",
       "      <th>income</th>\n",
       "      <th>sna</th>\n",
       "      <th>first_time</th>\n",
       "      <th>foreign_passport</th>\n",
       "    </tr>\n",
       "  </thead>\n",
       "  <tbody>\n",
       "    <tr>\n",
       "      <th>24012</th>\n",
       "      <td>34967</td>\n",
       "      <td>11FEB2014</td>\n",
       "      <td>SCH</td>\n",
       "      <td>F</td>\n",
       "      <td>21</td>\n",
       "      <td>N</td>\n",
       "      <td>N</td>\n",
       "      <td>1</td>\n",
       "      <td>0</td>\n",
       "      <td>-1.984380</td>\n",
       "      <td>0</td>\n",
       "      <td>50</td>\n",
       "      <td>1</td>\n",
       "      <td>1</td>\n",
       "      <td>6500</td>\n",
       "      <td>2</td>\n",
       "      <td>1</td>\n",
       "      <td>N</td>\n",
       "    </tr>\n",
       "    <tr>\n",
       "      <th>24591</th>\n",
       "      <td>72295</td>\n",
       "      <td>20MAR2014</td>\n",
       "      <td>UGR</td>\n",
       "      <td>F</td>\n",
       "      <td>49</td>\n",
       "      <td>N</td>\n",
       "      <td>N</td>\n",
       "      <td>0</td>\n",
       "      <td>0</td>\n",
       "      <td>-2.402792</td>\n",
       "      <td>1</td>\n",
       "      <td>70</td>\n",
       "      <td>1</td>\n",
       "      <td>3</td>\n",
       "      <td>50000</td>\n",
       "      <td>1</td>\n",
       "      <td>2</td>\n",
       "      <td>N</td>\n",
       "    </tr>\n",
       "  </tbody>\n",
       "</table>\n",
       "</div>"
      ],
      "text/plain": [
       "       client_id   app_date education sex  age car car_type  decline_app_cnt  \\\n",
       "24012      34967  11FEB2014       SCH   F   21   N        N                1   \n",
       "24591      72295  20MAR2014       UGR   F   49   N        N                0   \n",
       "\n",
       "       good_work  score_bki  bki_request_cnt  region_rating  home_address  \\\n",
       "24012          0  -1.984380                0             50             1   \n",
       "24591          0  -2.402792                1             70             1   \n",
       "\n",
       "       work_address  income  sna  first_time foreign_passport  \n",
       "24012             1    6500    2           1                N  \n",
       "24591             3   50000    1           2                N  "
      ]
     },
     "metadata": {},
     "output_type": "display_data"
    },
    {
     "data": {
      "text/plain": [
       "client_id             0\n",
       "app_date              0\n",
       "education           171\n",
       "sex                   0\n",
       "age                   0\n",
       "car                   0\n",
       "car_type              0\n",
       "decline_app_cnt       0\n",
       "good_work             0\n",
       "score_bki             0\n",
       "bki_request_cnt       0\n",
       "region_rating         0\n",
       "home_address          0\n",
       "work_address          0\n",
       "income                0\n",
       "sna                   0\n",
       "first_time            0\n",
       "foreign_passport      0\n",
       "dtype: int64"
      ]
     },
     "metadata": {},
     "output_type": "display_data"
    }
   ],
   "source": [
    "basic_info(train,test)"
   ]
  },
  {
   "cell_type": "code",
   "execution_count": 9,
   "metadata": {
    "execution": {
     "iopub.execute_input": "2021-05-24T15:45:24.667888Z",
     "iopub.status.busy": "2021-05-24T15:45:24.666942Z",
     "iopub.status.idle": "2021-05-24T15:45:24.670697Z",
     "shell.execute_reply": "2021-05-24T15:45:24.671221Z",
     "shell.execute_reply.started": "2021-05-24T15:38:32.144458Z"
    },
    "papermill": {
     "duration": 0.064042,
     "end_time": "2021-05-24T15:45:24.671400",
     "exception": false,
     "start_time": "2021-05-24T15:45:24.607358",
     "status": "completed"
    },
    "tags": []
   },
   "outputs": [
    {
     "data": {
      "text/plain": [
       "(24354, 2)"
      ]
     },
     "execution_count": 9,
     "metadata": {},
     "output_type": "execute_result"
    }
   ],
   "source": [
    "sample_submission.shape"
   ]
  },
  {
   "cell_type": "markdown",
   "metadata": {
    "papermill": {
     "duration": 0.054022,
     "end_time": "2021-05-24T15:45:24.779939",
     "exception": false,
     "start_time": "2021-05-24T15:45:24.725917",
     "status": "completed"
    },
    "tags": []
   },
   "source": [
    "Features are same and total train test shape is 73798x36348 [test size~0.33]"
   ]
  },
  {
   "cell_type": "markdown",
   "metadata": {
    "papermill": {
     "duration": 0.053438,
     "end_time": "2021-05-24T15:45:24.887255",
     "exception": false,
     "start_time": "2021-05-24T15:45:24.833817",
     "status": "completed"
    },
    "tags": []
   },
   "source": [
    "# EDA"
   ]
  },
  {
   "cell_type": "markdown",
   "metadata": {
    "papermill": {
     "duration": 0.054484,
     "end_time": "2021-05-24T15:45:24.995668",
     "exception": false,
     "start_time": "2021-05-24T15:45:24.941184",
     "status": "completed"
    },
    "tags": []
   },
   "source": [
    "# 1. Get rid of Nans"
   ]
  },
  {
   "cell_type": "code",
   "execution_count": 10,
   "metadata": {
    "execution": {
     "iopub.execute_input": "2021-05-24T15:45:25.107985Z",
     "iopub.status.busy": "2021-05-24T15:45:25.106999Z",
     "iopub.status.idle": "2021-05-24T15:45:25.141226Z",
     "shell.execute_reply": "2021-05-24T15:45:25.141695Z",
     "shell.execute_reply.started": "2021-05-24T15:38:32.153328Z"
    },
    "papermill": {
     "duration": 0.092726,
     "end_time": "2021-05-24T15:45:25.141869",
     "exception": false,
     "start_time": "2021-05-24T15:45:25.049143",
     "status": "completed"
    },
    "tags": []
   },
   "outputs": [
    {
     "data": {
      "text/plain": [
       "SCH    38860\n",
       "GRD    23365\n",
       "UGR     9816\n",
       "PGR     1257\n",
       "NaN      307\n",
       "ACD      194\n",
       "Name: education, dtype: int64"
      ]
     },
     "metadata": {},
     "output_type": "display_data"
    },
    {
     "data": {
      "text/plain": [
       "SCH    19138\n",
       "GRD    11403\n",
       "UGR     4932\n",
       "PGR      608\n",
       "NaN      171\n",
       "ACD       97\n",
       "Name: education, dtype: int64"
      ]
     },
     "metadata": {},
     "output_type": "display_data"
    }
   ],
   "source": [
    "display(train['education'].value_counts(dropna=False))\n",
    "display(test['education'].value_counts(dropna=False))"
   ]
  },
  {
   "cell_type": "code",
   "execution_count": 11,
   "metadata": {
    "execution": {
     "iopub.execute_input": "2021-05-24T15:45:25.254338Z",
     "iopub.status.busy": "2021-05-24T15:45:25.253371Z",
     "iopub.status.idle": "2021-05-24T15:45:25.269699Z",
     "shell.execute_reply": "2021-05-24T15:45:25.270160Z",
     "shell.execute_reply.started": "2021-05-24T15:38:32.179874Z"
    },
    "papermill": {
     "duration": 0.074149,
     "end_time": "2021-05-24T15:45:25.270349",
     "exception": false,
     "start_time": "2021-05-24T15:45:25.196200",
     "status": "completed"
    },
    "tags": []
   },
   "outputs": [],
   "source": [
    "# fill missing values based on its probability\n",
    "ed_vals = train['education'].value_counts().index.to_list()  # list of values\n",
    "ed_probs = train['education'].value_counts(normalize=True).values  # list of probabilities\n",
    "missings = train['education'].isnull()  # where are ours nans\n",
    "train.loc[missings, ['education']] = np.random.choice(ed_vals, size=len(train[missings]), p=ed_probs) # fillna"
   ]
  },
  {
   "cell_type": "markdown",
   "metadata": {},
   "source": [
    "I should also fill missings in test data. I must do it separetly from traing dataset as it may cause data leak."
   ]
  },
  {
   "cell_type": "code",
   "execution_count": null,
   "metadata": {},
   "outputs": [],
   "source": [
    "# do same thing for test\n",
    "ed_vals = test['education'].value_counts().index.to_list()  # list of values\n",
    "ed_probs = test['education'].value_counts(normalize=True).values  # list of probabilities\n",
    "missings = test['education'].isnull()  # where are ours nans\n",
    "test.loc[missings, ['education']] = np.random.choice(ed_vals, size=len(test[missings]), p=ed_probs) # fillna"
   ]
  },
  {
   "cell_type": "markdown",
   "metadata": {
    "papermill": {
     "duration": 0.053834,
     "end_time": "2021-05-24T15:45:25.378703",
     "exception": false,
     "start_time": "2021-05-24T15:45:25.324869",
     "status": "completed"
    },
    "tags": []
   },
   "source": [
    "# 2. Data selection"
   ]
  },
  {
   "cell_type": "code",
   "execution_count": 12,
   "metadata": {
    "execution": {
     "iopub.execute_input": "2021-05-24T15:45:25.490999Z",
     "iopub.status.busy": "2021-05-24T15:45:25.490040Z",
     "iopub.status.idle": "2021-05-24T15:45:25.495647Z",
     "shell.execute_reply": "2021-05-24T15:45:25.496121Z",
     "shell.execute_reply.started": "2021-05-24T15:38:32.193293Z"
    },
    "papermill": {
     "duration": 0.063238,
     "end_time": "2021-05-24T15:45:25.496287",
     "exception": false,
     "start_time": "2021-05-24T15:45:25.433049",
     "status": "completed"
    },
    "tags": []
   },
   "outputs": [
    {
     "data": {
      "text/plain": [
       "Index(['client_id', 'app_date', 'education', 'sex', 'age', 'car', 'car_type',\n",
       "       'decline_app_cnt', 'good_work', 'score_bki', 'bki_request_cnt',\n",
       "       'region_rating', 'home_address', 'work_address', 'income', 'sna',\n",
       "       'first_time', 'foreign_passport', 'default'],\n",
       "      dtype='object')"
      ]
     },
     "execution_count": 12,
     "metadata": {},
     "output_type": "execute_result"
    }
   ],
   "source": [
    "train.columns"
   ]
  },
  {
   "cell_type": "code",
   "execution_count": 13,
   "metadata": {
    "execution": {
     "iopub.execute_input": "2021-05-24T15:45:25.609561Z",
     "iopub.status.busy": "2021-05-24T15:45:25.608543Z",
     "iopub.status.idle": "2021-05-24T15:45:25.613516Z",
     "shell.execute_reply": "2021-05-24T15:45:25.614018Z",
     "shell.execute_reply.started": "2021-05-24T15:38:32.206451Z"
    },
    "papermill": {
     "duration": 0.06327,
     "end_time": "2021-05-24T15:45:25.614184",
     "exception": false,
     "start_time": "2021-05-24T15:45:25.550914",
     "status": "completed"
    },
    "tags": []
   },
   "outputs": [],
   "source": [
    "# divide data in 3 groups based on dtype\n",
    "# we dont use user_id here\n",
    "# we will use app_date further\n",
    "\n",
    "# numerical \n",
    "num_cols = ['age', 'decline_app_cnt', 'bki_request_cnt', 'income', 'score_bki', 'region_rating']\n",
    "\n",
    "# categorical\n",
    "cat_cols = ['education', 'work_address', 'home_address', 'sna', 'first_time']\n",
    "\n",
    "# binary\n",
    "bin_cols = ['sex', 'car', 'car_type', 'good_work', 'foreign_passport']"
   ]
  },
  {
   "cell_type": "markdown",
   "metadata": {
    "papermill": {
     "duration": 0.054337,
     "end_time": "2021-05-24T15:45:25.723650",
     "exception": false,
     "start_time": "2021-05-24T15:45:25.669313",
     "status": "completed"
    },
    "tags": []
   },
   "source": [
    "# 3. Numerical data explore"
   ]
  },
  {
   "cell_type": "code",
   "execution_count": 14,
   "metadata": {
    "execution": {
     "iopub.execute_input": "2021-05-24T15:45:25.862423Z",
     "iopub.status.busy": "2021-05-24T15:45:25.861738Z",
     "iopub.status.idle": "2021-05-24T15:45:29.744152Z",
     "shell.execute_reply": "2021-05-24T15:45:29.744630Z",
     "shell.execute_reply.started": "2021-05-24T15:38:32.218417Z"
    },
    "papermill": {
     "duration": 3.96647,
     "end_time": "2021-05-24T15:45:29.744815",
     "exception": false,
     "start_time": "2021-05-24T15:45:25.778345",
     "status": "completed"
    },
    "tags": []
   },
   "outputs": [
    {
     "data": {
      "image/png": "[encoded data removed]",
      "text/plain": [
       "<Figure size 1008x720 with 6 Axes>"
      ]
     },
     "metadata": {
      "needs_background": "light"
     },
     "output_type": "display_data"
    }
   ],
   "source": [
    "# take a look on dist of numerical data\n",
    "a,b,c = 2,3,1 # c stands for counter and a&b for subplots params\n",
    "fig = plt.figure(figsize=(14,10))\n",
    "for col in num_cols:\n",
    "    plt.subplot(a, b, c)\n",
    "    plt.xlabel(col)\n",
    "    sns.distplot(train[col])\n",
    "    c = c + 1\n",
    "\n",
    "plt.show()"
   ]
  },
  {
   "cell_type": "markdown",
   "metadata": {
    "papermill": {
     "duration": 0.060986,
     "end_time": "2021-05-24T15:45:29.863341",
     "exception": false,
     "start_time": "2021-05-24T15:45:29.802355",
     "status": "completed"
    },
    "tags": []
   },
   "source": [
    "We can see that:\n",
    "* some of num features have strong right tail, we should take log func in future\n",
    "* score_bki looks like it is already scaled"
   ]
  },
  {
   "cell_type": "code",
   "execution_count": 15,
   "metadata": {
    "execution": {
     "iopub.execute_input": "2021-05-24T15:45:30.005769Z",
     "iopub.status.busy": "2021-05-24T15:45:30.005067Z",
     "iopub.status.idle": "2021-05-24T15:45:30.397412Z",
     "shell.execute_reply": "2021-05-24T15:45:30.396908Z",
     "shell.execute_reply.started": "2021-05-24T15:38:35.807931Z"
    },
    "papermill": {
     "duration": 0.46098,
     "end_time": "2021-05-24T15:45:30.397572",
     "exception": false,
     "start_time": "2021-05-24T15:45:29.936592",
     "status": "completed"
    },
    "tags": []
   },
   "outputs": [
    {
     "data": {
      "image/png": "[encoded data removed]",
      "text/plain": [
       "<Figure size 864x864 with 2 Axes>"
      ]
     },
     "metadata": {
      "needs_background": "light"
     },
     "output_type": "display_data"
    }
   ],
   "source": [
    "# check heatmap for too strong correlations as we building linear model\n",
    "plt.figure(figsize=(12,12))\n",
    "sns.heatmap(train[num_cols].corr().abs(),annot=True,cmap='Purples_r')\n",
    "plt.show()"
   ]
  },
  {
   "cell_type": "markdown",
   "metadata": {
    "papermill": {
     "duration": 0.057787,
     "end_time": "2021-05-24T15:45:30.514102",
     "exception": false,
     "start_time": "2021-05-24T15:45:30.456315",
     "status": "completed"
    },
    "tags": []
   },
   "source": [
    "No too strong corr value"
   ]
  },
  {
   "cell_type": "markdown",
   "metadata": {
    "papermill": {
     "duration": 0.059308,
     "end_time": "2021-05-24T15:45:30.633154",
     "exception": false,
     "start_time": "2021-05-24T15:45:30.573846",
     "status": "completed"
    },
    "tags": []
   },
   "source": [
    "# 4. Binary and categorical data explore"
   ]
  },
  {
   "cell_type": "code",
   "execution_count": 16,
   "metadata": {
    "execution": {
     "iopub.execute_input": "2021-05-24T15:45:30.782084Z",
     "iopub.status.busy": "2021-05-24T15:45:30.764903Z",
     "iopub.status.idle": "2021-05-24T15:45:30.918627Z",
     "shell.execute_reply": "2021-05-24T15:45:30.917943Z",
     "shell.execute_reply.started": "2021-05-24T15:38:36.205603Z"
    },
    "papermill": {
     "duration": 0.226784,
     "end_time": "2021-05-24T15:45:30.918774",
     "exception": false,
     "start_time": "2021-05-24T15:45:30.691990",
     "status": "completed"
    },
    "tags": []
   },
   "outputs": [],
   "source": [
    "# Using LabelEncoder to get rid of str dtype (for both dfs)\n",
    "\n",
    "label_encoder = LabelEncoder()\n",
    "\n",
    "for column in bin_cols:\n",
    "    train[column] = label_encoder.fit_transform(train[column])\n",
    "    \n",
    "for column in bin_cols:\n",
    "    test[column] = label_encoder.fit_transform(test[column])"
   ]
  },
  {
   "cell_type": "code",
   "execution_count": 17,
   "metadata": {
    "execution": {
     "iopub.execute_input": "2021-05-24T15:45:31.052072Z",
     "iopub.status.busy": "2021-05-24T15:45:31.045786Z",
     "iopub.status.idle": "2021-05-24T15:45:31.056801Z",
     "shell.execute_reply": "2021-05-24T15:45:31.056227Z",
     "shell.execute_reply.started": "2021-05-24T15:38:36.305808Z"
    },
    "papermill": {
     "duration": 0.079368,
     "end_time": "2021-05-24T15:45:31.056951",
     "exception": false,
     "start_time": "2021-05-24T15:45:30.977583",
     "status": "completed"
    },
    "tags": []
   },
   "outputs": [
    {
     "data": {
      "text/html": [
       "<div>\n",
       "<style scoped>\n",
       "    .dataframe tbody tr th:only-of-type {\n",
       "        vertical-align: middle;\n",
       "    }\n",
       "\n",
       "    .dataframe tbody tr th {\n",
       "        vertical-align: top;\n",
       "    }\n",
       "\n",
       "    .dataframe thead th {\n",
       "        text-align: right;\n",
       "    }\n",
       "</style>\n",
       "<table border=\"1\" class=\"dataframe\">\n",
       "  <thead>\n",
       "    <tr style=\"text-align: right;\">\n",
       "      <th></th>\n",
       "      <th>client_id</th>\n",
       "      <th>app_date</th>\n",
       "      <th>education</th>\n",
       "      <th>sex</th>\n",
       "      <th>age</th>\n",
       "      <th>car</th>\n",
       "      <th>car_type</th>\n",
       "      <th>decline_app_cnt</th>\n",
       "      <th>good_work</th>\n",
       "      <th>score_bki</th>\n",
       "      <th>bki_request_cnt</th>\n",
       "      <th>region_rating</th>\n",
       "      <th>home_address</th>\n",
       "      <th>work_address</th>\n",
       "      <th>income</th>\n",
       "      <th>sna</th>\n",
       "      <th>first_time</th>\n",
       "      <th>foreign_passport</th>\n",
       "      <th>default</th>\n",
       "    </tr>\n",
       "  </thead>\n",
       "  <tbody>\n",
       "    <tr>\n",
       "      <th>0</th>\n",
       "      <td>25905</td>\n",
       "      <td>01FEB2014</td>\n",
       "      <td>SCH</td>\n",
       "      <td>1</td>\n",
       "      <td>62</td>\n",
       "      <td>1</td>\n",
       "      <td>1</td>\n",
       "      <td>0</td>\n",
       "      <td>0</td>\n",
       "      <td>-2.008753</td>\n",
       "      <td>1</td>\n",
       "      <td>50</td>\n",
       "      <td>1</td>\n",
       "      <td>2</td>\n",
       "      <td>18000</td>\n",
       "      <td>4</td>\n",
       "      <td>1</td>\n",
       "      <td>0</td>\n",
       "      <td>0</td>\n",
       "    </tr>\n",
       "    <tr>\n",
       "      <th>1</th>\n",
       "      <td>63161</td>\n",
       "      <td>12MAR2014</td>\n",
       "      <td>SCH</td>\n",
       "      <td>0</td>\n",
       "      <td>59</td>\n",
       "      <td>0</td>\n",
       "      <td>0</td>\n",
       "      <td>0</td>\n",
       "      <td>0</td>\n",
       "      <td>-1.532276</td>\n",
       "      <td>3</td>\n",
       "      <td>50</td>\n",
       "      <td>2</td>\n",
       "      <td>3</td>\n",
       "      <td>19000</td>\n",
       "      <td>4</td>\n",
       "      <td>1</td>\n",
       "      <td>0</td>\n",
       "      <td>0</td>\n",
       "    </tr>\n",
       "  </tbody>\n",
       "</table>\n",
       "</div>"
      ],
      "text/plain": [
       "   client_id   app_date education  sex  age  car  car_type  decline_app_cnt  \\\n",
       "0      25905  01FEB2014       SCH    1   62    1         1                0   \n",
       "1      63161  12MAR2014       SCH    0   59    0         0                0   \n",
       "\n",
       "   good_work  score_bki  bki_request_cnt  region_rating  home_address  \\\n",
       "0          0  -2.008753                1             50             1   \n",
       "1          0  -1.532276                3             50             2   \n",
       "\n",
       "   work_address  income  sna  first_time  foreign_passport  default  \n",
       "0             2   18000    4           1                 0        0  \n",
       "1             3   19000    4           1                 0        0  "
      ]
     },
     "execution_count": 17,
     "metadata": {},
     "output_type": "execute_result"
    }
   ],
   "source": [
    "# take a look\n",
    "train.head(2)"
   ]
  },
  {
   "cell_type": "code",
   "execution_count": 18,
   "metadata": {
    "execution": {
     "iopub.execute_input": "2021-05-24T15:45:31.186959Z",
     "iopub.status.busy": "2021-05-24T15:45:31.185851Z",
     "iopub.status.idle": "2021-05-24T15:45:31.197998Z",
     "shell.execute_reply": "2021-05-24T15:45:31.197414Z",
     "shell.execute_reply.started": "2021-05-24T15:38:36.322746Z"
    },
    "papermill": {
     "duration": 0.080932,
     "end_time": "2021-05-24T15:45:31.198147",
     "exception": false,
     "start_time": "2021-05-24T15:45:31.117215",
     "status": "completed"
    },
    "tags": []
   },
   "outputs": [],
   "source": [
    "# format 'education' feature to int dtype\n",
    "# treating education as ordinal dtype\n",
    "train['education'] = train['education'].astype('category').cat.reorder_categories(['SCH','GRD','UGR','PGR','ACD']).cat.codes\n",
    "test['education'] = test['education'].astype('category').cat.reorder_categories(['SCH','GRD','UGR','PGR','ACD']).cat.codes"
   ]
  },
  {
   "cell_type": "code",
   "execution_count": 19,
   "metadata": {
    "execution": {
     "iopub.execute_input": "2021-05-24T15:45:31.331501Z",
     "iopub.status.busy": "2021-05-24T15:45:31.330541Z",
     "iopub.status.idle": "2021-05-24T15:45:31.334932Z",
     "shell.execute_reply": "2021-05-24T15:45:31.334428Z",
     "shell.execute_reply.started": "2021-05-24T15:38:36.346514Z"
    },
    "papermill": {
     "duration": 0.077845,
     "end_time": "2021-05-24T15:45:31.335081",
     "exception": false,
     "start_time": "2021-05-24T15:45:31.257236",
     "status": "completed"
    },
    "tags": []
   },
   "outputs": [
    {
     "data": {
      "text/html": [
       "<div>\n",
       "<style scoped>\n",
       "    .dataframe tbody tr th:only-of-type {\n",
       "        vertical-align: middle;\n",
       "    }\n",
       "\n",
       "    .dataframe tbody tr th {\n",
       "        vertical-align: top;\n",
       "    }\n",
       "\n",
       "    .dataframe thead th {\n",
       "        text-align: right;\n",
       "    }\n",
       "</style>\n",
       "<table border=\"1\" class=\"dataframe\">\n",
       "  <thead>\n",
       "    <tr style=\"text-align: right;\">\n",
       "      <th></th>\n",
       "      <th>client_id</th>\n",
       "      <th>app_date</th>\n",
       "      <th>education</th>\n",
       "      <th>sex</th>\n",
       "      <th>age</th>\n",
       "      <th>car</th>\n",
       "      <th>car_type</th>\n",
       "      <th>decline_app_cnt</th>\n",
       "      <th>good_work</th>\n",
       "      <th>score_bki</th>\n",
       "      <th>bki_request_cnt</th>\n",
       "      <th>region_rating</th>\n",
       "      <th>home_address</th>\n",
       "      <th>work_address</th>\n",
       "      <th>income</th>\n",
       "      <th>sna</th>\n",
       "      <th>first_time</th>\n",
       "      <th>foreign_passport</th>\n",
       "      <th>default</th>\n",
       "    </tr>\n",
       "  </thead>\n",
       "  <tbody>\n",
       "    <tr>\n",
       "      <th>0</th>\n",
       "      <td>25905</td>\n",
       "      <td>01FEB2014</td>\n",
       "      <td>0</td>\n",
       "      <td>1</td>\n",
       "      <td>62</td>\n",
       "      <td>1</td>\n",
       "      <td>1</td>\n",
       "      <td>0</td>\n",
       "      <td>0</td>\n",
       "      <td>-2.008753</td>\n",
       "      <td>1</td>\n",
       "      <td>50</td>\n",
       "      <td>1</td>\n",
       "      <td>2</td>\n",
       "      <td>18000</td>\n",
       "      <td>4</td>\n",
       "      <td>1</td>\n",
       "      <td>0</td>\n",
       "      <td>0</td>\n",
       "    </tr>\n",
       "    <tr>\n",
       "      <th>1</th>\n",
       "      <td>63161</td>\n",
       "      <td>12MAR2014</td>\n",
       "      <td>0</td>\n",
       "      <td>0</td>\n",
       "      <td>59</td>\n",
       "      <td>0</td>\n",
       "      <td>0</td>\n",
       "      <td>0</td>\n",
       "      <td>0</td>\n",
       "      <td>-1.532276</td>\n",
       "      <td>3</td>\n",
       "      <td>50</td>\n",
       "      <td>2</td>\n",
       "      <td>3</td>\n",
       "      <td>19000</td>\n",
       "      <td>4</td>\n",
       "      <td>1</td>\n",
       "      <td>0</td>\n",
       "      <td>0</td>\n",
       "    </tr>\n",
       "  </tbody>\n",
       "</table>\n",
       "</div>"
      ],
      "text/plain": [
       "   client_id   app_date  education  sex  age  car  car_type  decline_app_cnt  \\\n",
       "0      25905  01FEB2014          0    1   62    1         1                0   \n",
       "1      63161  12MAR2014          0    0   59    0         0                0   \n",
       "\n",
       "   good_work  score_bki  bki_request_cnt  region_rating  home_address  \\\n",
       "0          0  -2.008753                1             50             1   \n",
       "1          0  -1.532276                3             50             2   \n",
       "\n",
       "   work_address  income  sna  first_time  foreign_passport  default  \n",
       "0             2   18000    4           1                 0        0  \n",
       "1             3   19000    4           1                 0        0  "
      ]
     },
     "execution_count": 19,
     "metadata": {},
     "output_type": "execute_result"
    }
   ],
   "source": [
    "# take a look\n",
    "train.head(2)"
   ]
  },
  {
   "cell_type": "markdown",
   "metadata": {
    "papermill": {
     "duration": 0.05888,
     "end_time": "2021-05-24T15:45:31.453486",
     "exception": false,
     "start_time": "2021-05-24T15:45:31.394606",
     "status": "completed"
    },
    "tags": []
   },
   "source": [
    "# 5. Datetime column 'app_date'"
   ]
  },
  {
   "cell_type": "code",
   "execution_count": 20,
   "metadata": {
    "execution": {
     "iopub.execute_input": "2021-05-24T15:45:31.582243Z",
     "iopub.status.busy": "2021-05-24T15:45:31.581536Z",
     "iopub.status.idle": "2021-05-24T15:45:31.628891Z",
     "shell.execute_reply": "2021-05-24T15:45:31.628331Z",
     "shell.execute_reply.started": "2021-05-24T15:38:36.361668Z"
    },
    "papermill": {
     "duration": 0.116121,
     "end_time": "2021-05-24T15:45:31.629052",
     "exception": false,
     "start_time": "2021-05-24T15:45:31.512931",
     "status": "completed"
    },
    "tags": []
   },
   "outputs": [],
   "source": [
    "# convert to proper dtype\n",
    "train['app_date'] = pd.to_datetime(train['app_date'])\n",
    "test['app_date'] = pd.to_datetime(test['app_date'])"
   ]
  },
  {
   "cell_type": "code",
   "execution_count": 21,
   "metadata": {
    "execution": {
     "iopub.execute_input": "2021-05-24T15:45:31.753946Z",
     "iopub.status.busy": "2021-05-24T15:45:31.753201Z",
     "iopub.status.idle": "2021-05-24T15:45:31.775676Z",
     "shell.execute_reply": "2021-05-24T15:45:31.775097Z",
     "shell.execute_reply.started": "2021-05-24T15:38:36.412491Z"
    },
    "papermill": {
     "duration": 0.086876,
     "end_time": "2021-05-24T15:45:31.775832",
     "exception": false,
     "start_time": "2021-05-24T15:45:31.688956",
     "status": "completed"
    },
    "tags": []
   },
   "outputs": [
    {
     "data": {
      "text/plain": [
       "2014    73799\n",
       "Name: app_date, dtype: int64"
      ]
     },
     "metadata": {},
     "output_type": "display_data"
    },
    {
     "data": {
      "text/plain": [
       "2014    36349\n",
       "Name: app_date, dtype: int64"
      ]
     },
     "metadata": {},
     "output_type": "display_data"
    }
   ],
   "source": [
    "# explore year\n",
    "display(train['app_date'].dt.year.value_counts())\n",
    "display(test['app_date'].dt.year.value_counts())"
   ]
  },
  {
   "cell_type": "code",
   "execution_count": 22,
   "metadata": {
    "execution": {
     "iopub.execute_input": "2021-05-24T15:45:31.904053Z",
     "iopub.status.busy": "2021-05-24T15:45:31.903252Z",
     "iopub.status.idle": "2021-05-24T15:45:31.926222Z",
     "shell.execute_reply": "2021-05-24T15:45:31.925632Z",
     "shell.execute_reply.started": "2021-05-24T15:38:36.437241Z"
    },
    "papermill": {
     "duration": 0.088767,
     "end_time": "2021-05-24T15:45:31.926368",
     "exception": false,
     "start_time": "2021-05-24T15:45:31.837601",
     "status": "completed"
    },
    "tags": []
   },
   "outputs": [
    {
     "data": {
      "text/plain": [
       "3    21178\n",
       "2    18028\n",
       "4    17683\n",
       "1    16910\n",
       "Name: app_date, dtype: int64"
      ]
     },
     "metadata": {},
     "output_type": "display_data"
    },
    {
     "data": {
      "text/plain": [
       "3    10419\n",
       "2     9069\n",
       "4     8583\n",
       "1     8278\n",
       "Name: app_date, dtype: int64"
      ]
     },
     "metadata": {},
     "output_type": "display_data"
    }
   ],
   "source": [
    "# explore months\n",
    "display(train['app_date'].dt.month.value_counts())\n",
    "display(test['app_date'].dt.month.value_counts())"
   ]
  },
  {
   "cell_type": "markdown",
   "metadata": {
    "papermill": {
     "duration": 0.061684,
     "end_time": "2021-05-24T15:45:32.050210",
     "exception": false,
     "start_time": "2021-05-24T15:45:31.988526",
     "status": "completed"
    },
    "tags": []
   },
   "source": [
    "Data we have stands only for 2014 January February March April"
   ]
  },
  {
   "cell_type": "markdown",
   "metadata": {
    "papermill": {
     "duration": 0.061535,
     "end_time": "2021-05-24T15:45:32.172423",
     "exception": false,
     "start_time": "2021-05-24T15:45:32.110888",
     "status": "completed"
    },
    "tags": []
   },
   "source": [
    "# 6. Feature Eng"
   ]
  },
  {
   "cell_type": "code",
   "execution_count": 23,
   "metadata": {
    "execution": {
     "iopub.execute_input": "2021-05-24T15:45:32.299138Z",
     "iopub.status.busy": "2021-05-24T15:45:32.298420Z",
     "iopub.status.idle": "2021-05-24T15:45:32.320643Z",
     "shell.execute_reply": "2021-05-24T15:45:32.320107Z",
     "shell.execute_reply.started": "2021-05-24T15:38:36.462386Z"
    },
    "papermill": {
     "duration": 0.087713,
     "end_time": "2021-05-24T15:45:32.320802",
     "exception": false,
     "start_time": "2021-05-24T15:45:32.233089",
     "status": "completed"
    },
    "tags": []
   },
   "outputs": [],
   "source": [
    "# add month col\n",
    "train['month'] = train['app_date'].dt.month\n",
    "test['month'] = train['app_date'].dt.month\n",
    "\n",
    "# dont forget to update lists\n",
    "cat_cols.append('month')"
   ]
  },
  {
   "cell_type": "markdown",
   "metadata": {
    "papermill": {
     "duration": 0.06097,
     "end_time": "2021-05-24T15:45:32.442827",
     "exception": false,
     "start_time": "2021-05-24T15:45:32.381857",
     "status": "completed"
    },
    "tags": []
   },
   "source": [
    "As i tried those - 'is_weekend' and 'day_of_week' - they dont have much sense "
   ]
  },
  {
   "cell_type": "code",
   "execution_count": 24,
   "metadata": {
    "execution": {
     "iopub.execute_input": "2021-05-24T15:45:32.570317Z",
     "iopub.status.busy": "2021-05-24T15:45:32.569674Z",
     "iopub.status.idle": "2021-05-24T15:45:32.576552Z",
     "shell.execute_reply": "2021-05-24T15:45:32.575955Z",
     "shell.execute_reply.started": "2021-05-24T15:38:36.490085Z"
    },
    "papermill": {
     "duration": 0.072564,
     "end_time": "2021-05-24T15:45:32.576711",
     "exception": false,
     "start_time": "2021-05-24T15:45:32.504147",
     "status": "completed"
    },
    "tags": []
   },
   "outputs": [
    {
     "data": {
      "text/plain": [
       "0     61214\n",
       "1      8397\n",
       "2      2468\n",
       "3       903\n",
       "4       414\n",
       "5       165\n",
       "6       113\n",
       "7        48\n",
       "9        24\n",
       "8        19\n",
       "10       11\n",
       "11        9\n",
       "13        3\n",
       "12        2\n",
       "14        2\n",
       "16        2\n",
       "15        1\n",
       "19        1\n",
       "22        1\n",
       "24        1\n",
       "33        1\n",
       "Name: decline_app_cnt, dtype: int64"
      ]
     },
     "execution_count": 24,
     "metadata": {},
     "output_type": "execute_result"
    }
   ],
   "source": [
    "train['decline_app_cnt'].value_counts()"
   ]
  },
  {
   "cell_type": "code",
   "execution_count": 25,
   "metadata": {
    "execution": {
     "iopub.execute_input": "2021-05-24T15:45:32.711539Z",
     "iopub.status.busy": "2021-05-24T15:45:32.705855Z",
     "iopub.status.idle": "2021-05-24T15:45:32.773934Z",
     "shell.execute_reply": "2021-05-24T15:45:32.774403Z",
     "shell.execute_reply.started": "2021-05-24T15:38:36.500518Z"
    },
    "papermill": {
     "duration": 0.136286,
     "end_time": "2021-05-24T15:45:32.774620",
     "exception": false,
     "start_time": "2021-05-24T15:45:32.638334",
     "status": "completed"
    },
    "tags": []
   },
   "outputs": [],
   "source": [
    "# if its possible it could be good to convert numerical data to categorical\n",
    "# hope it wont cause overfit\n",
    "train['decline_app_cnt'] = train['decline_app_cnt'].apply(lambda x: x if x < 4 else 4)\n",
    "test['decline_app_cnt'] = test['decline_app_cnt'].apply(lambda x: x if x < 4 else 4)\n",
    "\n",
    "# lists update\n",
    "num_cols.remove('decline_app_cnt')\n",
    "cat_cols.append('decline_app_cnt')"
   ]
  },
  {
   "cell_type": "code",
   "execution_count": 26,
   "metadata": {
    "execution": {
     "iopub.execute_input": "2021-05-24T15:45:32.930288Z",
     "iopub.status.busy": "2021-05-24T15:45:32.929590Z",
     "iopub.status.idle": "2021-05-24T15:45:33.309742Z",
     "shell.execute_reply": "2021-05-24T15:45:33.309208Z",
     "shell.execute_reply.started": "2021-05-24T15:38:36.545667Z"
    },
    "papermill": {
     "duration": 0.472605,
     "end_time": "2021-05-24T15:45:33.309890",
     "exception": false,
     "start_time": "2021-05-24T15:45:32.837285",
     "status": "completed"
    },
    "tags": []
   },
   "outputs": [
    {
     "data": {
      "image/png": "[encoded data removed]",
      "text/plain": [
       "<Figure size 1080x360 with 3 Axes>"
      ]
     },
     "metadata": {
      "needs_background": "light"
     },
     "output_type": "display_data"
    }
   ],
   "source": [
    "# we can help our model to identify decent customers by combining these features\n",
    "\n",
    "signs_of_decency = ['foreign_passport','good_work','car']\n",
    "\n",
    "a,b,c = 1,3,1\n",
    "fig = plt.figure(figsize=(15,5))\n",
    "for col in signs_of_decency:\n",
    "    plt.subplot(a, b, c)\n",
    "    plt.xlabel(col)\n",
    "    sns.countplot(data=train,hue='default',x=col)\n",
    "    c = c + 1\n",
    "\n",
    "plt.show()"
   ]
  },
  {
   "cell_type": "markdown",
   "metadata": {
    "papermill": {
     "duration": 0.061368,
     "end_time": "2021-05-24T15:45:33.433899",
     "exception": false,
     "start_time": "2021-05-24T15:45:33.372531",
     "status": "completed"
    },
    "tags": []
   },
   "source": [
    "As vizualization says - those three have strong impact on target val, why not to combine them in some kind of polynomial feature"
   ]
  },
  {
   "cell_type": "code",
   "execution_count": 27,
   "metadata": {
    "execution": {
     "iopub.execute_input": "2021-05-24T15:45:33.565001Z",
     "iopub.status.busy": "2021-05-24T15:45:33.563906Z",
     "iopub.status.idle": "2021-05-24T15:45:33.575684Z",
     "shell.execute_reply": "2021-05-24T15:45:33.575125Z",
     "shell.execute_reply.started": "2021-05-24T15:38:36.894995Z"
    },
    "papermill": {
     "duration": 0.079914,
     "end_time": "2021-05-24T15:45:33.575834",
     "exception": false,
     "start_time": "2021-05-24T15:45:33.495920",
     "status": "completed"
    },
    "tags": []
   },
   "outputs": [],
   "source": [
    "train['decent_customer_rate'] = (train['foreign_passport'] + 1) * (train['good_work'] + 1) * (train['car'] + 1)\n",
    "test['decent_customer_rate'] = (test['foreign_passport'] + 1) * (test['good_work'] + 1) * (test['car'] + 1)"
   ]
  },
  {
   "cell_type": "code",
   "execution_count": 28,
   "metadata": {
    "execution": {
     "iopub.execute_input": "2021-05-24T15:45:33.705525Z",
     "iopub.status.busy": "2021-05-24T15:45:33.704474Z",
     "iopub.status.idle": "2021-05-24T15:45:33.707629Z",
     "shell.execute_reply": "2021-05-24T15:45:33.707052Z",
     "shell.execute_reply.started": "2021-05-24T15:38:36.908661Z"
    },
    "papermill": {
     "duration": 0.069678,
     "end_time": "2021-05-24T15:45:33.707774",
     "exception": false,
     "start_time": "2021-05-24T15:45:33.638096",
     "status": "completed"
    },
    "tags": []
   },
   "outputs": [],
   "source": [
    "# update list\n",
    "cat_cols.append('decent_customer_rate')"
   ]
  },
  {
   "cell_type": "code",
   "execution_count": 29,
   "metadata": {
    "execution": {
     "iopub.execute_input": "2021-05-24T15:45:33.838604Z",
     "iopub.status.busy": "2021-05-24T15:45:33.837875Z",
     "iopub.status.idle": "2021-05-24T15:45:33.869462Z",
     "shell.execute_reply": "2021-05-24T15:45:33.868365Z",
     "shell.execute_reply.started": "2021-05-24T15:38:36.91866Z"
    },
    "papermill": {
     "duration": 0.099382,
     "end_time": "2021-05-24T15:45:33.869636",
     "exception": false,
     "start_time": "2021-05-24T15:45:33.770254",
     "status": "completed"
    },
    "tags": []
   },
   "outputs": [],
   "source": [
    "# take a look back on visualization of numerical data\n",
    "# and log those wich are tailed\n",
    "\n",
    "num_cols_tailed = ['age', 'bki_request_cnt', 'income']\n",
    "\n",
    "for col in num_cols_tailed:\n",
    "    train[col] = np.log(train[col] + 1)\n",
    "    \n",
    "    \n",
    "for col in num_cols_tailed:\n",
    "    test[col] = np.log(test[col] + 1)"
   ]
  },
  {
   "cell_type": "markdown",
   "metadata": {
    "papermill": {
     "duration": 0.062706,
     "end_time": "2021-05-24T15:45:33.995374",
     "exception": false,
     "start_time": "2021-05-24T15:45:33.932668",
     "status": "completed"
    },
    "tags": []
   },
   "source": [
    "# 7. Feature importance analysis"
   ]
  },
  {
   "cell_type": "code",
   "execution_count": 30,
   "metadata": {
    "execution": {
     "iopub.execute_input": "2021-05-24T15:45:34.129959Z",
     "iopub.status.busy": "2021-05-24T15:45:34.128659Z",
     "iopub.status.idle": "2021-05-24T15:45:34.515248Z",
     "shell.execute_reply": "2021-05-24T15:45:34.514720Z",
     "shell.execute_reply.started": "2021-05-24T15:38:36.961887Z"
    },
    "papermill": {
     "duration": 0.456932,
     "end_time": "2021-05-24T15:45:34.515384",
     "exception": false,
     "start_time": "2021-05-24T15:45:34.058452",
     "status": "completed"
    },
    "tags": []
   },
   "outputs": [
    {
     "data": {
      "image/png": "[encoded data removed]",
      "text/plain": [
       "<Figure size 432x288 with 1 Axes>"
      ]
     },
     "metadata": {
      "needs_background": "light"
     },
     "output_type": "display_data"
    }
   ],
   "source": [
    "# plotting F - values fro categorical and binary dtypes\n",
    "imp_cat = Series(mutual_info_classif(train[bin_cols + cat_cols], train['default'],\n",
    "                                     discrete_features =True), index = bin_cols + cat_cols)\n",
    "imp_cat.sort_values(inplace = True)\n",
    "imp_cat.plot(kind = 'barh',grid=True)\n",
    "plt.xlabel('F-value')\n",
    "plt.show()"
   ]
  },
  {
   "cell_type": "code",
   "execution_count": 31,
   "metadata": {
    "execution": {
     "iopub.execute_input": "2021-05-24T15:45:34.651702Z",
     "iopub.status.busy": "2021-05-24T15:45:34.650716Z",
     "iopub.status.idle": "2021-05-24T15:45:34.795129Z",
     "shell.execute_reply": "2021-05-24T15:45:34.794443Z",
     "shell.execute_reply.started": "2021-05-24T15:38:37.339153Z"
    },
    "papermill": {
     "duration": 0.217089,
     "end_time": "2021-05-24T15:45:34.795280",
     "exception": false,
     "start_time": "2021-05-24T15:45:34.578191",
     "status": "completed"
    },
    "tags": []
   },
   "outputs": [
    {
     "data": {
      "image/png": "[encoded data removed]",
      "text/plain": [
       "<Figure size 432x288 with 1 Axes>"
      ]
     },
     "metadata": {
      "needs_background": "light"
     },
     "output_type": "display_data"
    }
   ],
   "source": [
    "# same for numerical data\n",
    "imp_num = Series(f_classif(train[num_cols], train['default'])[0],\n",
    "                 index=num_cols)\n",
    "imp_num.sort_values(inplace=True)\n",
    "imp_num.plot(kind='barh',grid=True)\n",
    "plt.xlabel('F-value')\n",
    "plt.show()"
   ]
  },
  {
   "cell_type": "code",
   "execution_count": 32,
   "metadata": {
    "execution": {
     "iopub.execute_input": "2021-05-24T15:45:34.949660Z",
     "iopub.status.busy": "2021-05-24T15:45:34.944411Z",
     "iopub.status.idle": "2021-05-24T15:45:34.955548Z",
     "shell.execute_reply": "2021-05-24T15:45:34.954990Z",
     "shell.execute_reply.started": "2021-05-24T15:38:37.471062Z"
    },
    "papermill": {
     "duration": 0.095955,
     "end_time": "2021-05-24T15:45:34.955687",
     "exception": false,
     "start_time": "2021-05-24T15:45:34.859732",
     "status": "completed"
    },
    "tags": []
   },
   "outputs": [
    {
     "data": {
      "text/html": [
       "<div>\n",
       "<style scoped>\n",
       "    .dataframe tbody tr th:only-of-type {\n",
       "        vertical-align: middle;\n",
       "    }\n",
       "\n",
       "    .dataframe tbody tr th {\n",
       "        vertical-align: top;\n",
       "    }\n",
       "\n",
       "    .dataframe thead th {\n",
       "        text-align: right;\n",
       "    }\n",
       "</style>\n",
       "<table border=\"1\" class=\"dataframe\">\n",
       "  <thead>\n",
       "    <tr style=\"text-align: right;\">\n",
       "      <th></th>\n",
       "      <th>client_id</th>\n",
       "      <th>app_date</th>\n",
       "      <th>education</th>\n",
       "      <th>sex</th>\n",
       "      <th>age</th>\n",
       "      <th>car</th>\n",
       "      <th>car_type</th>\n",
       "      <th>decline_app_cnt</th>\n",
       "      <th>good_work</th>\n",
       "      <th>score_bki</th>\n",
       "      <th>...</th>\n",
       "      <th>region_rating</th>\n",
       "      <th>home_address</th>\n",
       "      <th>work_address</th>\n",
       "      <th>income</th>\n",
       "      <th>sna</th>\n",
       "      <th>first_time</th>\n",
       "      <th>foreign_passport</th>\n",
       "      <th>default</th>\n",
       "      <th>month</th>\n",
       "      <th>decent_customer_rate</th>\n",
       "    </tr>\n",
       "  </thead>\n",
       "  <tbody>\n",
       "    <tr>\n",
       "      <th>0</th>\n",
       "      <td>25905</td>\n",
       "      <td>2014-02-01</td>\n",
       "      <td>0</td>\n",
       "      <td>1</td>\n",
       "      <td>4.143135</td>\n",
       "      <td>1</td>\n",
       "      <td>1</td>\n",
       "      <td>0</td>\n",
       "      <td>0</td>\n",
       "      <td>-2.008753</td>\n",
       "      <td>...</td>\n",
       "      <td>50</td>\n",
       "      <td>1</td>\n",
       "      <td>2</td>\n",
       "      <td>9.798183</td>\n",
       "      <td>4</td>\n",
       "      <td>1</td>\n",
       "      <td>0</td>\n",
       "      <td>0</td>\n",
       "      <td>2</td>\n",
       "      <td>2</td>\n",
       "    </tr>\n",
       "    <tr>\n",
       "      <th>1</th>\n",
       "      <td>63161</td>\n",
       "      <td>2014-03-12</td>\n",
       "      <td>0</td>\n",
       "      <td>0</td>\n",
       "      <td>4.094345</td>\n",
       "      <td>0</td>\n",
       "      <td>0</td>\n",
       "      <td>0</td>\n",
       "      <td>0</td>\n",
       "      <td>-1.532276</td>\n",
       "      <td>...</td>\n",
       "      <td>50</td>\n",
       "      <td>2</td>\n",
       "      <td>3</td>\n",
       "      <td>9.852247</td>\n",
       "      <td>4</td>\n",
       "      <td>1</td>\n",
       "      <td>0</td>\n",
       "      <td>0</td>\n",
       "      <td>3</td>\n",
       "      <td>1</td>\n",
       "    </tr>\n",
       "  </tbody>\n",
       "</table>\n",
       "<p>2 rows × 21 columns</p>\n",
       "</div>"
      ],
      "text/plain": [
       "   client_id   app_date  education  sex       age  car  car_type  \\\n",
       "0      25905 2014-02-01          0    1  4.143135    1         1   \n",
       "1      63161 2014-03-12          0    0  4.094345    0         0   \n",
       "\n",
       "   decline_app_cnt  good_work  score_bki  ...  region_rating  home_address  \\\n",
       "0                0          0  -2.008753  ...             50             1   \n",
       "1                0          0  -1.532276  ...             50             2   \n",
       "\n",
       "   work_address    income  sna  first_time  foreign_passport  default  month  \\\n",
       "0             2  9.798183    4           1                 0        0      2   \n",
       "1             3  9.852247    4           1                 0        0      3   \n",
       "\n",
       "   decent_customer_rate  \n",
       "0                     2  \n",
       "1                     1  \n",
       "\n",
       "[2 rows x 21 columns]"
      ]
     },
     "execution_count": 32,
     "metadata": {},
     "output_type": "execute_result"
    }
   ],
   "source": [
    "train.head(2)"
   ]
  },
  {
   "cell_type": "code",
   "execution_count": 33,
   "metadata": {
    "execution": {
     "iopub.execute_input": "2021-05-24T15:45:35.094798Z",
     "iopub.status.busy": "2021-05-24T15:45:35.094073Z",
     "iopub.status.idle": "2021-05-24T15:45:35.201086Z",
     "shell.execute_reply": "2021-05-24T15:45:35.200523Z",
     "shell.execute_reply.started": "2021-05-24T15:38:37.494871Z"
    },
    "papermill": {
     "duration": 0.181023,
     "end_time": "2021-05-24T15:45:35.201231",
     "exception": false,
     "start_time": "2021-05-24T15:45:35.020208",
     "status": "completed"
    },
    "tags": []
   },
   "outputs": [
    {
     "data": {
      "text/html": [
       "<div>\n",
       "<style scoped>\n",
       "    .dataframe tbody tr th:only-of-type {\n",
       "        vertical-align: middle;\n",
       "    }\n",
       "\n",
       "    .dataframe tbody tr th {\n",
       "        vertical-align: top;\n",
       "    }\n",
       "\n",
       "    .dataframe thead th {\n",
       "        text-align: right;\n",
       "    }\n",
       "</style>\n",
       "<table border=\"1\" class=\"dataframe\">\n",
       "  <thead>\n",
       "    <tr style=\"text-align: right;\">\n",
       "      <th></th>\n",
       "      <th>sex</th>\n",
       "      <th>age</th>\n",
       "      <th>car</th>\n",
       "      <th>car_type</th>\n",
       "      <th>decline_app_cnt</th>\n",
       "      <th>good_work</th>\n",
       "      <th>score_bki</th>\n",
       "      <th>bki_request_cnt</th>\n",
       "      <th>region_rating</th>\n",
       "      <th>home_address</th>\n",
       "      <th>work_address</th>\n",
       "      <th>income</th>\n",
       "      <th>sna</th>\n",
       "      <th>first_time</th>\n",
       "      <th>foreign_passport</th>\n",
       "      <th>default</th>\n",
       "      <th>month</th>\n",
       "      <th>decent_customer_rate</th>\n",
       "    </tr>\n",
       "  </thead>\n",
       "  <tbody>\n",
       "    <tr>\n",
       "      <th>sex</th>\n",
       "      <td>1.000000</td>\n",
       "      <td>-0.127008</td>\n",
       "      <td>0.279488</td>\n",
       "      <td>0.225578</td>\n",
       "      <td>0.022882</td>\n",
       "      <td>-0.040247</td>\n",
       "      <td>-0.045055</td>\n",
       "      <td>-0.047472</td>\n",
       "      <td>0.107711</td>\n",
       "      <td>0.037607</td>\n",
       "      <td>0.068967</td>\n",
       "      <td>0.305235</td>\n",
       "      <td>-0.003558</td>\n",
       "      <td>0.014126</td>\n",
       "      <td>0.086326</td>\n",
       "      <td>0.019619</td>\n",
       "      <td>-0.029600</td>\n",
       "      <td>0.172501</td>\n",
       "    </tr>\n",
       "    <tr>\n",
       "      <th>age</th>\n",
       "      <td>-0.127008</td>\n",
       "      <td>1.000000</td>\n",
       "      <td>-0.037130</td>\n",
       "      <td>-0.034069</td>\n",
       "      <td>-0.124736</td>\n",
       "      <td>-0.073322</td>\n",
       "      <td>-0.109971</td>\n",
       "      <td>0.049327</td>\n",
       "      <td>-0.090973</td>\n",
       "      <td>0.000180</td>\n",
       "      <td>-0.015311</td>\n",
       "      <td>-0.092586</td>\n",
       "      <td>-0.070400</td>\n",
       "      <td>0.095163</td>\n",
       "      <td>-0.037015</td>\n",
       "      <td>-0.026119</td>\n",
       "      <td>0.014924</td>\n",
       "      <td>-0.068995</td>\n",
       "    </tr>\n",
       "    <tr>\n",
       "      <th>car</th>\n",
       "      <td>0.279488</td>\n",
       "      <td>-0.037130</td>\n",
       "      <td>1.000000</td>\n",
       "      <td>0.697939</td>\n",
       "      <td>-0.036361</td>\n",
       "      <td>0.002027</td>\n",
       "      <td>-0.044782</td>\n",
       "      <td>-0.046411</td>\n",
       "      <td>0.064685</td>\n",
       "      <td>-0.025240</td>\n",
       "      <td>-0.007523</td>\n",
       "      <td>0.324723</td>\n",
       "      <td>-0.072100</td>\n",
       "      <td>0.089959</td>\n",
       "      <td>0.107568</td>\n",
       "      <td>-0.043161</td>\n",
       "      <td>-0.020234</td>\n",
       "      <td>0.599490</td>\n",
       "    </tr>\n",
       "    <tr>\n",
       "      <th>car_type</th>\n",
       "      <td>0.225578</td>\n",
       "      <td>-0.034069</td>\n",
       "      <td>0.697939</td>\n",
       "      <td>1.000000</td>\n",
       "      <td>-0.048438</td>\n",
       "      <td>0.017521</td>\n",
       "      <td>-0.040382</td>\n",
       "      <td>-0.016256</td>\n",
       "      <td>0.104110</td>\n",
       "      <td>-0.012032</td>\n",
       "      <td>0.000506</td>\n",
       "      <td>0.369633</td>\n",
       "      <td>-0.085844</td>\n",
       "      <td>0.103973</td>\n",
       "      <td>0.145807</td>\n",
       "      <td>-0.057484</td>\n",
       "      <td>-0.025034</td>\n",
       "      <td>0.483223</td>\n",
       "    </tr>\n",
       "    <tr>\n",
       "      <th>decline_app_cnt</th>\n",
       "      <td>0.022882</td>\n",
       "      <td>-0.124736</td>\n",
       "      <td>-0.036361</td>\n",
       "      <td>-0.048438</td>\n",
       "      <td>1.000000</td>\n",
       "      <td>-0.029736</td>\n",
       "      <td>0.202737</td>\n",
       "      <td>0.122564</td>\n",
       "      <td>-0.040175</td>\n",
       "      <td>0.011091</td>\n",
       "      <td>0.016592</td>\n",
       "      <td>-0.013102</td>\n",
       "      <td>0.069021</td>\n",
       "      <td>-0.073693</td>\n",
       "      <td>-0.029984</td>\n",
       "      <td>0.121318</td>\n",
       "      <td>-0.021818</td>\n",
       "      <td>-0.051268</td>\n",
       "    </tr>\n",
       "    <tr>\n",
       "      <th>good_work</th>\n",
       "      <td>-0.040247</td>\n",
       "      <td>-0.073322</td>\n",
       "      <td>0.002027</td>\n",
       "      <td>0.017521</td>\n",
       "      <td>-0.029736</td>\n",
       "      <td>1.000000</td>\n",
       "      <td>0.006269</td>\n",
       "      <td>0.006000</td>\n",
       "      <td>0.073041</td>\n",
       "      <td>-0.003624</td>\n",
       "      <td>-0.008535</td>\n",
       "      <td>0.051550</td>\n",
       "      <td>-0.054041</td>\n",
       "      <td>0.055821</td>\n",
       "      <td>0.046361</td>\n",
       "      <td>-0.043361</td>\n",
       "      <td>0.004882</td>\n",
       "      <td>0.522790</td>\n",
       "    </tr>\n",
       "    <tr>\n",
       "      <th>score_bki</th>\n",
       "      <td>-0.045055</td>\n",
       "      <td>-0.109971</td>\n",
       "      <td>-0.044782</td>\n",
       "      <td>-0.040382</td>\n",
       "      <td>0.202737</td>\n",
       "      <td>0.006269</td>\n",
       "      <td>1.000000</td>\n",
       "      <td>0.139622</td>\n",
       "      <td>0.008959</td>\n",
       "      <td>0.013847</td>\n",
       "      <td>0.012648</td>\n",
       "      <td>0.002860</td>\n",
       "      <td>0.067623</td>\n",
       "      <td>-0.069122</td>\n",
       "      <td>-0.021731</td>\n",
       "      <td>0.175369</td>\n",
       "      <td>-0.061736</td>\n",
       "      <td>-0.035764</td>\n",
       "    </tr>\n",
       "    <tr>\n",
       "      <th>bki_request_cnt</th>\n",
       "      <td>-0.047472</td>\n",
       "      <td>0.049327</td>\n",
       "      <td>-0.046411</td>\n",
       "      <td>-0.016256</td>\n",
       "      <td>0.122564</td>\n",
       "      <td>0.006000</td>\n",
       "      <td>0.139622</td>\n",
       "      <td>1.000000</td>\n",
       "      <td>-0.013354</td>\n",
       "      <td>0.003949</td>\n",
       "      <td>0.000348</td>\n",
       "      <td>0.081019</td>\n",
       "      <td>0.010048</td>\n",
       "      <td>0.010204</td>\n",
       "      <td>-0.003369</td>\n",
       "      <td>0.078501</td>\n",
       "      <td>-0.011060</td>\n",
       "      <td>-0.024259</td>\n",
       "    </tr>\n",
       "    <tr>\n",
       "      <th>region_rating</th>\n",
       "      <td>0.107711</td>\n",
       "      <td>-0.090973</td>\n",
       "      <td>0.064685</td>\n",
       "      <td>0.104110</td>\n",
       "      <td>-0.040175</td>\n",
       "      <td>0.073041</td>\n",
       "      <td>0.008959</td>\n",
       "      <td>-0.013354</td>\n",
       "      <td>1.000000</td>\n",
       "      <td>0.233820</td>\n",
       "      <td>0.253541</td>\n",
       "      <td>0.312551</td>\n",
       "      <td>-0.078199</td>\n",
       "      <td>0.088777</td>\n",
       "      <td>0.255456</td>\n",
       "      <td>-0.089035</td>\n",
       "      <td>0.004578</td>\n",
       "      <td>0.206594</td>\n",
       "    </tr>\n",
       "    <tr>\n",
       "      <th>home_address</th>\n",
       "      <td>0.037607</td>\n",
       "      <td>0.000180</td>\n",
       "      <td>-0.025240</td>\n",
       "      <td>-0.012032</td>\n",
       "      <td>0.011091</td>\n",
       "      <td>-0.003624</td>\n",
       "      <td>0.013847</td>\n",
       "      <td>0.003949</td>\n",
       "      <td>0.233820</td>\n",
       "      <td>1.000000</td>\n",
       "      <td>0.728139</td>\n",
       "      <td>0.046829</td>\n",
       "      <td>0.115196</td>\n",
       "      <td>-0.058476</td>\n",
       "      <td>0.038658</td>\n",
       "      <td>0.084637</td>\n",
       "      <td>0.168774</td>\n",
       "      <td>0.010798</td>\n",
       "    </tr>\n",
       "    <tr>\n",
       "      <th>work_address</th>\n",
       "      <td>0.068967</td>\n",
       "      <td>-0.015311</td>\n",
       "      <td>-0.007523</td>\n",
       "      <td>0.000506</td>\n",
       "      <td>0.016592</td>\n",
       "      <td>-0.008535</td>\n",
       "      <td>0.012648</td>\n",
       "      <td>0.000348</td>\n",
       "      <td>0.253541</td>\n",
       "      <td>0.728139</td>\n",
       "      <td>1.000000</td>\n",
       "      <td>0.068116</td>\n",
       "      <td>0.111114</td>\n",
       "      <td>-0.063202</td>\n",
       "      <td>0.041769</td>\n",
       "      <td>0.081582</td>\n",
       "      <td>0.171211</td>\n",
       "      <td>0.021733</td>\n",
       "    </tr>\n",
       "    <tr>\n",
       "      <th>income</th>\n",
       "      <td>0.305235</td>\n",
       "      <td>-0.092586</td>\n",
       "      <td>0.324723</td>\n",
       "      <td>0.369633</td>\n",
       "      <td>-0.013102</td>\n",
       "      <td>0.051550</td>\n",
       "      <td>0.002860</td>\n",
       "      <td>0.081019</td>\n",
       "      <td>0.312551</td>\n",
       "      <td>0.046829</td>\n",
       "      <td>0.068116</td>\n",
       "      <td>1.000000</td>\n",
       "      <td>-0.124114</td>\n",
       "      <td>0.150483</td>\n",
       "      <td>0.272645</td>\n",
       "      <td>-0.053871</td>\n",
       "      <td>0.008219</td>\n",
       "      <td>0.343025</td>\n",
       "    </tr>\n",
       "    <tr>\n",
       "      <th>sna</th>\n",
       "      <td>-0.003558</td>\n",
       "      <td>-0.070400</td>\n",
       "      <td>-0.072100</td>\n",
       "      <td>-0.085844</td>\n",
       "      <td>0.069021</td>\n",
       "      <td>-0.054041</td>\n",
       "      <td>0.067623</td>\n",
       "      <td>0.010048</td>\n",
       "      <td>-0.078199</td>\n",
       "      <td>0.115196</td>\n",
       "      <td>0.111114</td>\n",
       "      <td>-0.124114</td>\n",
       "      <td>1.000000</td>\n",
       "      <td>-0.525206</td>\n",
       "      <td>-0.174298</td>\n",
       "      <td>0.125832</td>\n",
       "      <td>-0.003508</td>\n",
       "      <td>-0.150057</td>\n",
       "    </tr>\n",
       "    <tr>\n",
       "      <th>first_time</th>\n",
       "      <td>0.014126</td>\n",
       "      <td>0.095163</td>\n",
       "      <td>0.089959</td>\n",
       "      <td>0.103973</td>\n",
       "      <td>-0.073693</td>\n",
       "      <td>0.055821</td>\n",
       "      <td>-0.069122</td>\n",
       "      <td>0.010204</td>\n",
       "      <td>0.088777</td>\n",
       "      <td>-0.058476</td>\n",
       "      <td>-0.063202</td>\n",
       "      <td>0.150483</td>\n",
       "      <td>-0.525206</td>\n",
       "      <td>1.000000</td>\n",
       "      <td>0.194513</td>\n",
       "      <td>-0.105579</td>\n",
       "      <td>0.018967</td>\n",
       "      <td>0.172669</td>\n",
       "    </tr>\n",
       "    <tr>\n",
       "      <th>foreign_passport</th>\n",
       "      <td>0.086326</td>\n",
       "      <td>-0.037015</td>\n",
       "      <td>0.107568</td>\n",
       "      <td>0.145807</td>\n",
       "      <td>-0.029984</td>\n",
       "      <td>0.046361</td>\n",
       "      <td>-0.021731</td>\n",
       "      <td>-0.003369</td>\n",
       "      <td>0.255456</td>\n",
       "      <td>0.038658</td>\n",
       "      <td>0.041769</td>\n",
       "      <td>0.272645</td>\n",
       "      <td>-0.174298</td>\n",
       "      <td>0.194513</td>\n",
       "      <td>1.000000</td>\n",
       "      <td>-0.066718</td>\n",
       "      <td>-0.014673</td>\n",
       "      <td>0.596909</td>\n",
       "    </tr>\n",
       "    <tr>\n",
       "      <th>default</th>\n",
       "      <td>0.019619</td>\n",
       "      <td>-0.026119</td>\n",
       "      <td>-0.043161</td>\n",
       "      <td>-0.057484</td>\n",
       "      <td>0.121318</td>\n",
       "      <td>-0.043361</td>\n",
       "      <td>0.175369</td>\n",
       "      <td>0.078501</td>\n",
       "      <td>-0.089035</td>\n",
       "      <td>0.084637</td>\n",
       "      <td>0.081582</td>\n",
       "      <td>-0.053871</td>\n",
       "      <td>0.125832</td>\n",
       "      <td>-0.105579</td>\n",
       "      <td>-0.066718</td>\n",
       "      <td>1.000000</td>\n",
       "      <td>-0.037115</td>\n",
       "      <td>-0.076585</td>\n",
       "    </tr>\n",
       "    <tr>\n",
       "      <th>month</th>\n",
       "      <td>-0.029600</td>\n",
       "      <td>0.014924</td>\n",
       "      <td>-0.020234</td>\n",
       "      <td>-0.025034</td>\n",
       "      <td>-0.021818</td>\n",
       "      <td>0.004882</td>\n",
       "      <td>-0.061736</td>\n",
       "      <td>-0.011060</td>\n",
       "      <td>0.004578</td>\n",
       "      <td>0.168774</td>\n",
       "      <td>0.171211</td>\n",
       "      <td>0.008219</td>\n",
       "      <td>-0.003508</td>\n",
       "      <td>0.018967</td>\n",
       "      <td>-0.014673</td>\n",
       "      <td>-0.037115</td>\n",
       "      <td>1.000000</td>\n",
       "      <td>-0.013027</td>\n",
       "    </tr>\n",
       "    <tr>\n",
       "      <th>decent_customer_rate</th>\n",
       "      <td>0.172501</td>\n",
       "      <td>-0.068995</td>\n",
       "      <td>0.599490</td>\n",
       "      <td>0.483223</td>\n",
       "      <td>-0.051268</td>\n",
       "      <td>0.522790</td>\n",
       "      <td>-0.035764</td>\n",
       "      <td>-0.024259</td>\n",
       "      <td>0.206594</td>\n",
       "      <td>0.010798</td>\n",
       "      <td>0.021733</td>\n",
       "      <td>0.343025</td>\n",
       "      <td>-0.150057</td>\n",
       "      <td>0.172669</td>\n",
       "      <td>0.596909</td>\n",
       "      <td>-0.076585</td>\n",
       "      <td>-0.013027</td>\n",
       "      <td>1.000000</td>\n",
       "    </tr>\n",
       "  </tbody>\n",
       "</table>\n",
       "</div>"
      ],
      "text/plain": [
       "                           sex       age       car  car_type  decline_app_cnt  \\\n",
       "sex                   1.000000 -0.127008  0.279488  0.225578         0.022882   \n",
       "age                  -0.127008  1.000000 -0.037130 -0.034069        -0.124736   \n",
       "car                   0.279488 -0.037130  1.000000  0.697939        -0.036361   \n",
       "car_type              0.225578 -0.034069  0.697939  1.000000        -0.048438   \n",
       "decline_app_cnt       0.022882 -0.124736 -0.036361 -0.048438         1.000000   \n",
       "good_work            -0.040247 -0.073322  0.002027  0.017521        -0.029736   \n",
       "score_bki            -0.045055 -0.109971 -0.044782 -0.040382         0.202737   \n",
       "bki_request_cnt      -0.047472  0.049327 -0.046411 -0.016256         0.122564   \n",
       "region_rating         0.107711 -0.090973  0.064685  0.104110        -0.040175   \n",
       "home_address          0.037607  0.000180 -0.025240 -0.012032         0.011091   \n",
       "work_address          0.068967 -0.015311 -0.007523  0.000506         0.016592   \n",
       "income                0.305235 -0.092586  0.324723  0.369633        -0.013102   \n",
       "sna                  -0.003558 -0.070400 -0.072100 -0.085844         0.069021   \n",
       "first_time            0.014126  0.095163  0.089959  0.103973        -0.073693   \n",
       "foreign_passport      0.086326 -0.037015  0.107568  0.145807        -0.029984   \n",
       "default               0.019619 -0.026119 -0.043161 -0.057484         0.121318   \n",
       "month                -0.029600  0.014924 -0.020234 -0.025034        -0.021818   \n",
       "decent_customer_rate  0.172501 -0.068995  0.599490  0.483223        -0.051268   \n",
       "\n",
       "                      good_work  score_bki  bki_request_cnt  region_rating  \\\n",
       "sex                   -0.040247  -0.045055        -0.047472       0.107711   \n",
       "age                   -0.073322  -0.109971         0.049327      -0.090973   \n",
       "car                    0.002027  -0.044782        -0.046411       0.064685   \n",
       "car_type               0.017521  -0.040382        -0.016256       0.104110   \n",
       "decline_app_cnt       -0.029736   0.202737         0.122564      -0.040175   \n",
       "good_work              1.000000   0.006269         0.006000       0.073041   \n",
       "score_bki              0.006269   1.000000         0.139622       0.008959   \n",
       "bki_request_cnt        0.006000   0.139622         1.000000      -0.013354   \n",
       "region_rating          0.073041   0.008959        -0.013354       1.000000   \n",
       "home_address          -0.003624   0.013847         0.003949       0.233820   \n",
       "work_address          -0.008535   0.012648         0.000348       0.253541   \n",
       "income                 0.051550   0.002860         0.081019       0.312551   \n",
       "sna                   -0.054041   0.067623         0.010048      -0.078199   \n",
       "first_time             0.055821  -0.069122         0.010204       0.088777   \n",
       "foreign_passport       0.046361  -0.021731        -0.003369       0.255456   \n",
       "default               -0.043361   0.175369         0.078501      -0.089035   \n",
       "month                  0.004882  -0.061736        -0.011060       0.004578   \n",
       "decent_customer_rate   0.522790  -0.035764        -0.024259       0.206594   \n",
       "\n",
       "                      home_address  work_address    income       sna  \\\n",
       "sex                       0.037607      0.068967  0.305235 -0.003558   \n",
       "age                       0.000180     -0.015311 -0.092586 -0.070400   \n",
       "car                      -0.025240     -0.007523  0.324723 -0.072100   \n",
       "car_type                 -0.012032      0.000506  0.369633 -0.085844   \n",
       "decline_app_cnt           0.011091      0.016592 -0.013102  0.069021   \n",
       "good_work                -0.003624     -0.008535  0.051550 -0.054041   \n",
       "score_bki                 0.013847      0.012648  0.002860  0.067623   \n",
       "bki_request_cnt           0.003949      0.000348  0.081019  0.010048   \n",
       "region_rating             0.233820      0.253541  0.312551 -0.078199   \n",
       "home_address              1.000000      0.728139  0.046829  0.115196   \n",
       "work_address              0.728139      1.000000  0.068116  0.111114   \n",
       "income                    0.046829      0.068116  1.000000 -0.124114   \n",
       "sna                       0.115196      0.111114 -0.124114  1.000000   \n",
       "first_time               -0.058476     -0.063202  0.150483 -0.525206   \n",
       "foreign_passport          0.038658      0.041769  0.272645 -0.174298   \n",
       "default                   0.084637      0.081582 -0.053871  0.125832   \n",
       "month                     0.168774      0.171211  0.008219 -0.003508   \n",
       "decent_customer_rate      0.010798      0.021733  0.343025 -0.150057   \n",
       "\n",
       "                      first_time  foreign_passport   default     month  \\\n",
       "sex                     0.014126          0.086326  0.019619 -0.029600   \n",
       "age                     0.095163         -0.037015 -0.026119  0.014924   \n",
       "car                     0.089959          0.107568 -0.043161 -0.020234   \n",
       "car_type                0.103973          0.145807 -0.057484 -0.025034   \n",
       "decline_app_cnt        -0.073693         -0.029984  0.121318 -0.021818   \n",
       "good_work               0.055821          0.046361 -0.043361  0.004882   \n",
       "score_bki              -0.069122         -0.021731  0.175369 -0.061736   \n",
       "bki_request_cnt         0.010204         -0.003369  0.078501 -0.011060   \n",
       "region_rating           0.088777          0.255456 -0.089035  0.004578   \n",
       "home_address           -0.058476          0.038658  0.084637  0.168774   \n",
       "work_address           -0.063202          0.041769  0.081582  0.171211   \n",
       "income                  0.150483          0.272645 -0.053871  0.008219   \n",
       "sna                    -0.525206         -0.174298  0.125832 -0.003508   \n",
       "first_time              1.000000          0.194513 -0.105579  0.018967   \n",
       "foreign_passport        0.194513          1.000000 -0.066718 -0.014673   \n",
       "default                -0.105579         -0.066718  1.000000 -0.037115   \n",
       "month                   0.018967         -0.014673 -0.037115  1.000000   \n",
       "decent_customer_rate    0.172669          0.596909 -0.076585 -0.013027   \n",
       "\n",
       "                      decent_customer_rate  \n",
       "sex                               0.172501  \n",
       "age                              -0.068995  \n",
       "car                               0.599490  \n",
       "car_type                          0.483223  \n",
       "decline_app_cnt                  -0.051268  \n",
       "good_work                         0.522790  \n",
       "score_bki                        -0.035764  \n",
       "bki_request_cnt                  -0.024259  \n",
       "region_rating                     0.206594  \n",
       "home_address                      0.010798  \n",
       "work_address                      0.021733  \n",
       "income                            0.343025  \n",
       "sna                              -0.150057  \n",
       "first_time                        0.172669  \n",
       "foreign_passport                  0.596909  \n",
       "default                          -0.076585  \n",
       "month                            -0.013027  \n",
       "decent_customer_rate              1.000000  "
      ]
     },
     "execution_count": 33,
     "metadata": {},
     "output_type": "execute_result"
    }
   ],
   "source": [
    "train.drop(['client_id', 'education'],axis = 1).corr()"
   ]
  },
  {
   "cell_type": "code",
   "execution_count": 34,
   "metadata": {
    "execution": {
     "iopub.execute_input": "2021-05-24T15:45:35.345668Z",
     "iopub.status.busy": "2021-05-24T15:45:35.344981Z",
     "iopub.status.idle": "2021-05-24T15:45:37.244582Z",
     "shell.execute_reply": "2021-05-24T15:45:37.245130Z",
     "shell.execute_reply.started": "2021-05-24T15:38:37.603873Z"
    },
    "papermill": {
     "duration": 1.978123,
     "end_time": "2021-05-24T15:45:37.245346",
     "exception": false,
     "start_time": "2021-05-24T15:45:35.267223",
     "status": "completed"
    },
    "tags": []
   },
   "outputs": [
    {
     "data": {
      "text/plain": [
       "<AxesSubplot:>"
      ]
     },
     "execution_count": 34,
     "metadata": {},
     "output_type": "execute_result"
    },
    {
     "data": {
      "image/png": "[encoded data removed]",
      "text/plain": [
       "<Figure size 1080x1080 with 2 Axes>"
      ]
     },
     "metadata": {
      "needs_background": "light"
     },
     "output_type": "display_data"
    }
   ],
   "source": [
    "plt.figure(figsize=(15,15))\n",
    "sns.heatmap(train.drop(['client_id', 'education'],axis = 1).corr().abs(),annot=True,cmap='Purples_r')"
   ]
  },
  {
   "cell_type": "markdown",
   "metadata": {
    "papermill": {
     "duration": 0.071188,
     "end_time": "2021-05-24T15:45:37.388015",
     "exception": false,
     "start_time": "2021-05-24T15:45:37.316827",
     "status": "completed"
    },
    "tags": []
   },
   "source": [
    "# 8. Build model"
   ]
  },
  {
   "cell_type": "code",
   "execution_count": 35,
   "metadata": {
    "execution": {
     "iopub.execute_input": "2021-05-24T15:45:37.533357Z",
     "iopub.status.busy": "2021-05-24T15:45:37.532700Z",
     "iopub.status.idle": "2021-05-24T15:45:37.614299Z",
     "shell.execute_reply": "2021-05-24T15:45:37.613797Z",
     "shell.execute_reply.started": "2021-05-24T15:38:39.320832Z"
    },
    "papermill": {
     "duration": 0.155536,
     "end_time": "2021-05-24T15:45:37.614454",
     "exception": false,
     "start_time": "2021-05-24T15:45:37.458918",
     "status": "completed"
    },
    "tags": []
   },
   "outputs": [
    {
     "data": {
      "text/plain": [
       "array([[1., 0., 0., ..., 1., 0., 0.],\n",
       "       [1., 0., 0., ..., 0., 0., 0.],\n",
       "       [1., 0., 0., ..., 0., 1., 0.],\n",
       "       ...,\n",
       "       [1., 0., 0., ..., 0., 0., 0.],\n",
       "       [1., 0., 0., ..., 1., 0., 0.],\n",
       "       [0., 1., 0., ..., 0., 0., 0.]])"
      ]
     },
     "execution_count": 35,
     "metadata": {},
     "output_type": "execute_result"
    }
   ],
   "source": [
    "# dummy coding using OneHotEncoder fro categorical data\n",
    "X_cat = OneHotEncoder(sparse = False).fit_transform(train[cat_cols].values)\n",
    "X_cat"
   ]
  },
  {
   "cell_type": "code",
   "execution_count": 36,
   "metadata": {
    "execution": {
     "iopub.execute_input": "2021-05-24T15:45:37.763074Z",
     "iopub.status.busy": "2021-05-24T15:45:37.762401Z",
     "iopub.status.idle": "2021-05-24T15:45:37.795175Z",
     "shell.execute_reply": "2021-05-24T15:45:37.795695Z",
     "shell.execute_reply.started": "2021-05-24T15:38:39.409229Z"
    },
    "papermill": {
     "duration": 0.109903,
     "end_time": "2021-05-24T15:45:37.795875",
     "exception": false,
     "start_time": "2021-05-24T15:45:37.685972",
     "status": "completed"
    },
    "tags": []
   },
   "outputs": [
    {
     "data": {
      "text/plain": [
       "array([[0., 1., 0., ..., 1., 0., 0.],\n",
       "       [1., 0., 0., ..., 0., 0., 0.],\n",
       "       [0., 0., 1., ..., 0., 1., 0.],\n",
       "       ...,\n",
       "       [0., 1., 0., ..., 0., 0., 0.],\n",
       "       [0., 0., 1., ..., 0., 0., 0.],\n",
       "       [1., 0., 0., ..., 0., 0., 0.]])"
      ]
     },
     "execution_count": 36,
     "metadata": {},
     "output_type": "execute_result"
    }
   ],
   "source": [
    "Y_cat = OneHotEncoder(sparse = False).fit_transform(test[cat_cols].values)\n",
    "Y_cat"
   ]
  },
  {
   "cell_type": "code",
   "execution_count": 37,
   "metadata": {
    "execution": {
     "iopub.execute_input": "2021-05-24T15:45:37.943732Z",
     "iopub.status.busy": "2021-05-24T15:45:37.943067Z",
     "iopub.status.idle": "2021-05-24T15:45:37.956915Z",
     "shell.execute_reply": "2021-05-24T15:45:37.957465Z",
     "shell.execute_reply.started": "2021-05-24T15:38:39.449458Z"
    },
    "papermill": {
     "duration": 0.089667,
     "end_time": "2021-05-24T15:45:37.957663",
     "exception": false,
     "start_time": "2021-05-24T15:45:37.867996",
     "status": "completed"
    },
    "tags": []
   },
   "outputs": [
    {
     "data": {
      "text/plain": [
       "array([[ 1.71113664, -0.28100505, -0.78501579, -0.2087987 , -0.51515718],\n",
       "       [ 1.5399884 ,  0.77260728, -0.70752611,  0.74754461, -0.51515718],\n",
       "       [-1.39343857, -0.28100505, -0.05288771,  0.99669566,  1.78270228],\n",
       "       ...,\n",
       "       [-0.66507223,  1.11179469,  0.5282444 ,  0.78696739,  1.78270228],\n",
       "       [-0.89146325,  0.77260728, -1.25140899,  0.85380611, -0.51515718],\n",
       "       [-0.35072683,  0.33531865, -0.31419734,  0.28102087, -0.51515718]])"
      ]
     },
     "execution_count": 37,
     "metadata": {},
     "output_type": "execute_result"
    }
   ],
   "source": [
    "# scale numerical train data\n",
    "\n",
    "X_num = StandardScaler().fit_transform(train[num_cols].values)\n",
    "X_num"
   ]
  },
  {
   "cell_type": "code",
   "execution_count": 38,
   "metadata": {
    "execution": {
     "iopub.execute_input": "2021-05-24T15:45:38.112064Z",
     "iopub.status.busy": "2021-05-24T15:45:38.111371Z",
     "iopub.status.idle": "2021-05-24T15:45:38.122427Z",
     "shell.execute_reply": "2021-05-24T15:45:38.123365Z",
     "shell.execute_reply.started": "2021-05-24T15:38:39.465156Z"
    },
    "papermill": {
     "duration": 0.092289,
     "end_time": "2021-05-24T15:45:38.123597",
     "exception": false,
     "start_time": "2021-05-24T15:45:38.031308",
     "status": "completed"
    },
    "tags": []
   },
   "outputs": [
    {
     "data": {
      "text/plain": [
       "array([[-0.88333898,  0.76643419,  0.68282058, -0.73288746, -0.51984533],\n",
       "       [ 0.12606863,  0.33072139, -2.63253397,  0.79551047, -0.51984533],\n",
       "       [ 0.97850869, -0.28338131, -0.05272498,  0.42413578, -0.51984533],\n",
       "       ...,\n",
       "       [-0.65688874, -0.28338131,  0.9453502 ,  1.92005304, -0.51984533],\n",
       "       [-1.12541848,  0.33072139, -0.05272498,  1.31888606,  1.77259941],\n",
       "       [ 0.0372345 ,  0.33072139, -1.05077617,  0.79042787, -0.51984533]])"
      ]
     },
     "execution_count": 38,
     "metadata": {},
     "output_type": "execute_result"
    }
   ],
   "source": [
    "# scale numerical test data\n",
    "\n",
    "Y_num = StandardScaler().fit_transform(test[num_cols].values)\n",
    "Y_num"
   ]
  },
  {
   "cell_type": "code",
   "execution_count": 39,
   "metadata": {
    "execution": {
     "iopub.execute_input": "2021-05-24T15:45:38.273937Z",
     "iopub.status.busy": "2021-05-24T15:45:38.273250Z",
     "iopub.status.idle": "2021-05-24T15:45:38.306438Z",
     "shell.execute_reply": "2021-05-24T15:45:38.307035Z",
     "shell.execute_reply.started": "2021-05-24T15:38:39.478652Z"
    },
    "papermill": {
     "duration": 0.109663,
     "end_time": "2021-05-24T15:45:38.307214",
     "exception": false,
     "start_time": "2021-05-24T15:45:38.197551",
     "status": "completed"
    },
    "tags": []
   },
   "outputs": [],
   "source": [
    "# concat\n",
    "\n",
    "X = np.hstack([X_num, train[bin_cols].values, X_cat])\n",
    "Y = train['default'].values\n",
    "\n",
    "id_test = test['client_id']\n",
    "test = np.hstack([Y_num, test[bin_cols].values, Y_cat])"
   ]
  },
  {
   "cell_type": "code",
   "execution_count": 40,
   "metadata": {
    "execution": {
     "iopub.execute_input": "2021-05-24T15:45:38.461335Z",
     "iopub.status.busy": "2021-05-24T15:45:38.460643Z",
     "iopub.status.idle": "2021-05-24T15:45:38.478732Z",
     "shell.execute_reply": "2021-05-24T15:45:38.478174Z",
     "shell.execute_reply.started": "2021-05-24T15:38:39.512978Z"
    },
    "papermill": {
     "duration": 0.099106,
     "end_time": "2021-05-24T15:45:38.478886",
     "exception": false,
     "start_time": "2021-05-24T15:45:38.379780",
     "status": "completed"
    },
    "tags": []
   },
   "outputs": [],
   "source": [
    "# we split train for a) train and b) valid\n",
    "X_train, X_valid, y_train, y_valid = train_test_split(X, Y, test_size=0.2, random_state=42, shuffle = True)"
   ]
  },
  {
   "cell_type": "code",
   "execution_count": 41,
   "metadata": {
    "execution": {
     "iopub.execute_input": "2021-05-24T15:45:38.632234Z",
     "iopub.status.busy": "2021-05-24T15:45:38.631372Z",
     "iopub.status.idle": "2021-05-24T15:46:24.220217Z",
     "shell.execute_reply": "2021-05-24T15:46:24.221019Z",
     "shell.execute_reply.started": "2021-05-24T15:38:39.537354Z"
    },
    "papermill": {
     "duration": 45.669828,
     "end_time": "2021-05-24T15:46:24.221275",
     "exception": false,
     "start_time": "2021-05-24T15:45:38.551447",
     "status": "completed"
    },
    "tags": []
   },
   "outputs": [
    {
     "name": "stdout",
     "output_type": "stream",
     "text": [
      "Лучшее Penalty: l2\n",
      "Лучшее C: 59.94842503189409\n"
     ]
    }
   ],
   "source": [
    "# looking for best hyperparams\n",
    "\n",
    "from sklearn.model_selection import GridSearchCV\n",
    "\n",
    "# regularization\n",
    "penalty = ['l1', 'l2']\n",
    "\n",
    "# Зададим ограничения для параметра регуляризации\n",
    "C = np.logspace(0, 4, 10)\n",
    "\n",
    "# Создадим гиперпараметры\n",
    "hyperparameters = dict(C=C, penalty=penalty)\n",
    "\n",
    "model = LogisticRegression()\n",
    "model.fit(X_train, y_train)\n",
    "\n",
    "# Создаем сетку поиска с использованием 5-кратной перекрестной проверки\n",
    "clf = GridSearchCV(model, hyperparameters, cv=5, verbose=0)\n",
    "\n",
    "best_model = clf.fit(X_train, y_train)\n",
    "\n",
    "print('Лучшее Penalty:', best_model.best_estimator_.get_params()['penalty'])\n",
    "print('Лучшее C:', best_model.best_estimator_.get_params()['C'])"
   ]
  },
  {
   "cell_type": "code",
   "execution_count": 42,
   "metadata": {
    "execution": {
     "iopub.execute_input": "2021-05-24T15:46:24.375287Z",
     "iopub.status.busy": "2021-05-24T15:46:24.374129Z",
     "iopub.status.idle": "2021-05-24T15:46:24.815666Z",
     "shell.execute_reply": "2021-05-24T15:46:24.816163Z",
     "shell.execute_reply.started": "2021-05-24T15:39:23.18345Z"
    },
    "papermill": {
     "duration": 0.521293,
     "end_time": "2021-05-24T15:46:24.816330",
     "exception": false,
     "start_time": "2021-05-24T15:46:24.295037",
     "status": "completed"
    },
    "tags": []
   },
   "outputs": [
    {
     "data": {
      "text/plain": [
       "LogisticRegression(C=59.94842503189409, class_weight='balanced', max_iter=1000,\n",
       "                   solver='liblinear')"
      ]
     },
     "execution_count": 42,
     "metadata": {},
     "output_type": "execute_result"
    }
   ],
   "source": [
    "# Описываем и обучаем модель\n",
    "model = LogisticRegression( \n",
    "                           C=59.94842503189409, \n",
    "                           class_weight='balanced', \n",
    "                           dual=False, \n",
    "                           fit_intercept=True, \n",
    "                           intercept_scaling=1, \n",
    "                           l1_ratio=None, \n",
    "                           multi_class='auto', \n",
    "                           n_jobs=None, \n",
    "                           penalty='l2', \n",
    "                           solver='liblinear', \n",
    "                           verbose=0, \n",
    "                           max_iter=1000)\n",
    "\n",
    "model.fit(X_train, y_train)"
   ]
  },
  {
   "cell_type": "code",
   "execution_count": 43,
   "metadata": {
    "execution": {
     "iopub.execute_input": "2021-05-24T15:46:24.995290Z",
     "iopub.status.busy": "2021-05-24T15:46:24.994523Z",
     "iopub.status.idle": "2021-05-24T15:46:25.005344Z",
     "shell.execute_reply": "2021-05-24T15:46:25.006265Z",
     "shell.execute_reply.started": "2021-05-24T15:39:23.665359Z"
    },
    "papermill": {
     "duration": 0.09963,
     "end_time": "2021-05-24T15:46:25.006570",
     "exception": false,
     "start_time": "2021-05-24T15:46:24.906940",
     "status": "completed"
    },
    "tags": []
   },
   "outputs": [],
   "source": [
    "# Предсказываем значения валидационной базы\n",
    "Y_predict = model.predict(X_valid)\n",
    "Y_predict_prob = model.predict_proba(X_valid)[:,1]"
   ]
  },
  {
   "cell_type": "code",
   "execution_count": 44,
   "metadata": {
    "execution": {
     "iopub.execute_input": "2021-05-24T15:46:25.214554Z",
     "iopub.status.busy": "2021-05-24T15:46:25.213155Z",
     "iopub.status.idle": "2021-05-24T15:46:25.225098Z",
     "shell.execute_reply": "2021-05-24T15:46:25.225983Z",
     "shell.execute_reply.started": "2021-05-24T15:39:23.681128Z"
    },
    "papermill": {
     "duration": 0.092287,
     "end_time": "2021-05-24T15:46:25.226266",
     "exception": false,
     "start_time": "2021-05-24T15:46:25.133979",
     "status": "completed"
    },
    "tags": []
   },
   "outputs": [],
   "source": [
    "# Предсказываем значения тестовой базы\n",
    "y_pred_test = model.predict(test)\n",
    "y_pred_prob_test = model.predict_proba(test)[:,1]"
   ]
  },
  {
   "cell_type": "code",
   "execution_count": 45,
   "metadata": {
    "execution": {
     "iopub.execute_input": "2021-05-24T15:46:25.430371Z",
     "iopub.status.busy": "2021-05-24T15:46:25.429689Z",
     "iopub.status.idle": "2021-05-24T15:46:25.611126Z",
     "shell.execute_reply": "2021-05-24T15:46:25.610557Z",
     "shell.execute_reply.started": "2021-05-24T15:39:23.699269Z"
    },
    "papermill": {
     "duration": 0.260638,
     "end_time": "2021-05-24T15:46:25.611281",
     "exception": false,
     "start_time": "2021-05-24T15:46:25.350643",
     "status": "completed"
    },
    "tags": []
   },
   "outputs": [
    {
     "data": {
      "image/png": "[encoded data removed]",
      "text/plain": [
       "<Figure size 432x288 with 1 Axes>"
      ]
     },
     "metadata": {
      "needs_background": "light"
     },
     "output_type": "display_data"
    }
   ],
   "source": [
    "# Строим ROC-кривую\n",
    "fpr, tpr, threshold = roc_curve(y_valid, Y_predict_prob)\n",
    "roc_auc = roc_auc_score(y_valid, Y_predict_prob)\n",
    "\n",
    "plt.figure()\n",
    "plt.plot([0, 1], label='Baseline', linestyle='--')\n",
    "plt.plot(fpr, tpr, label = 'Regression')\n",
    "plt.title('Logistic Regression ROC AUC = %0.3f' % roc_auc)\n",
    "plt.ylabel('True Positive Rate')\n",
    "plt.xlabel('False Positive Rate')\n",
    "plt.legend(loc = 'lower right')\n",
    "plt.show()"
   ]
  },
  {
   "cell_type": "code",
   "execution_count": 46,
   "metadata": {
    "execution": {
     "iopub.execute_input": "2021-05-24T15:46:25.768323Z",
     "iopub.status.busy": "2021-05-24T15:46:25.767664Z",
     "iopub.status.idle": "2021-05-24T15:46:26.402286Z",
     "shell.execute_reply": "2021-05-24T15:46:26.403196Z",
     "shell.execute_reply.started": "2021-05-24T15:39:23.899411Z"
    },
    "papermill": {
     "duration": 0.717526,
     "end_time": "2021-05-24T15:46:26.403498",
     "exception": false,
     "start_time": "2021-05-24T15:46:25.685972",
     "status": "completed"
    },
    "tags": []
   },
   "outputs": [],
   "source": [
    "# Обучаем модель на всей обучающей базе\n",
    "main_model = LogisticRegression( \n",
    "                           C=59.94842503189409, \n",
    "                           class_weight='balanced', \n",
    "                           dual=False, \n",
    "                           fit_intercept=True, \n",
    "                           intercept_scaling=1, \n",
    "                           l1_ratio=None, \n",
    "                           multi_class='auto', \n",
    "                           n_jobs=None, \n",
    "                           penalty='l2', \n",
    "                           solver='liblinear', \n",
    "                           verbose=0, \n",
    "                           max_iter=1000)\n",
    "main_model.fit(X, Y)\n",
    "\n",
    "# Предсказываем значения тестовой базы\n",
    "y_pred_test = main_model.predict(test)\n",
    "y_pred_prob_test = main_model.predict_proba(test)[:,1]"
   ]
  },
  {
   "cell_type": "code",
   "execution_count": 47,
   "metadata": {
    "execution": {
     "iopub.execute_input": "2021-05-24T15:46:26.608959Z",
     "iopub.status.busy": "2021-05-24T15:46:26.608301Z",
     "iopub.status.idle": "2021-05-24T15:46:26.749174Z",
     "shell.execute_reply": "2021-05-24T15:46:26.748560Z",
     "shell.execute_reply.started": "2021-05-24T15:39:24.535723Z"
    },
    "papermill": {
     "duration": 0.220648,
     "end_time": "2021-05-24T15:46:26.749314",
     "exception": false,
     "start_time": "2021-05-24T15:46:26.528666",
     "status": "completed"
    },
    "tags": []
   },
   "outputs": [
    {
     "data": {
      "text/html": [
       "<div>\n",
       "<style scoped>\n",
       "    .dataframe tbody tr th:only-of-type {\n",
       "        vertical-align: middle;\n",
       "    }\n",
       "\n",
       "    .dataframe tbody tr th {\n",
       "        vertical-align: top;\n",
       "    }\n",
       "\n",
       "    .dataframe thead th {\n",
       "        text-align: right;\n",
       "    }\n",
       "</style>\n",
       "<table border=\"1\" class=\"dataframe\">\n",
       "  <thead>\n",
       "    <tr style=\"text-align: right;\">\n",
       "      <th></th>\n",
       "      <th>client_id</th>\n",
       "      <th>default</th>\n",
       "    </tr>\n",
       "  </thead>\n",
       "  <tbody>\n",
       "    <tr>\n",
       "      <th>0</th>\n",
       "      <td>74835</td>\n",
       "      <td>0.233654</td>\n",
       "    </tr>\n",
       "    <tr>\n",
       "      <th>1</th>\n",
       "      <td>17527</td>\n",
       "      <td>0.747668</td>\n",
       "    </tr>\n",
       "    <tr>\n",
       "      <th>2</th>\n",
       "      <td>75683</td>\n",
       "      <td>0.335846</td>\n",
       "    </tr>\n",
       "    <tr>\n",
       "      <th>3</th>\n",
       "      <td>26883</td>\n",
       "      <td>0.415322</td>\n",
       "    </tr>\n",
       "    <tr>\n",
       "      <th>4</th>\n",
       "      <td>28862</td>\n",
       "      <td>0.104585</td>\n",
       "    </tr>\n",
       "    <tr>\n",
       "      <th>5</th>\n",
       "      <td>99881</td>\n",
       "      <td>0.647751</td>\n",
       "    </tr>\n",
       "    <tr>\n",
       "      <th>6</th>\n",
       "      <td>26630</td>\n",
       "      <td>0.767259</td>\n",
       "    </tr>\n",
       "    <tr>\n",
       "      <th>7</th>\n",
       "      <td>79934</td>\n",
       "      <td>0.189698</td>\n",
       "    </tr>\n",
       "    <tr>\n",
       "      <th>8</th>\n",
       "      <td>16605</td>\n",
       "      <td>0.138182</td>\n",
       "    </tr>\n",
       "    <tr>\n",
       "      <th>9</th>\n",
       "      <td>105449</td>\n",
       "      <td>0.201203</td>\n",
       "    </tr>\n",
       "  </tbody>\n",
       "</table>\n",
       "</div>"
      ],
      "text/plain": [
       "   client_id   default\n",
       "0      74835  0.233654\n",
       "1      17527  0.747668\n",
       "2      75683  0.335846\n",
       "3      26883  0.415322\n",
       "4      28862  0.104585\n",
       "5      99881  0.647751\n",
       "6      26630  0.767259\n",
       "7      79934  0.189698\n",
       "8      16605  0.138182\n",
       "9     105449  0.201203"
      ]
     },
     "execution_count": 47,
     "metadata": {},
     "output_type": "execute_result"
    }
   ],
   "source": [
    "# Записываем предсказанные моделью вероятности дефолта заемщиков из тестовой базы в отдельный файл\n",
    "new_sample_submission = pd.DataFrame({'client_id': id_test,\n",
    "                              'default': y_pred_prob_test})\n",
    "new_sample_submission.to_csv('submission.csv', index=False)\n",
    "\n",
    "new_sample_submission.head(10)"
   ]
  },
  {
   "cell_type": "code",
   "execution_count": 48,
   "metadata": {
    "execution": {
     "iopub.execute_input": "2021-05-24T15:46:26.913337Z",
     "iopub.status.busy": "2021-05-24T15:46:26.912435Z",
     "iopub.status.idle": "2021-05-24T15:46:26.915626Z",
     "shell.execute_reply": "2021-05-24T15:46:26.916073Z",
     "shell.execute_reply.started": "2021-05-24T15:39:24.683603Z"
    },
    "papermill": {
     "duration": 0.090266,
     "end_time": "2021-05-24T15:46:26.916251",
     "exception": false,
     "start_time": "2021-05-24T15:46:26.825985",
     "status": "completed"
    },
    "tags": []
   },
   "outputs": [
    {
     "data": {
      "text/plain": [
       "(36349, 2)"
      ]
     },
     "execution_count": 48,
     "metadata": {},
     "output_type": "execute_result"
    }
   ],
   "source": [
    "new_sample_submission.shape"
   ]
  }
 ],
 "metadata": {
  "kernelspec": {
   "display_name": "Python 3",
   "language": "python",
   "name": "python3"
  },
  "language_info": {
   "codemirror_mode": {
    "name": "ipython",
    "version": 3
   },
   "file_extension": ".py",
   "mimetype": "text/x-python",
   "name": "python",
   "nbconvert_exporter": "python",
   "pygments_lexer": "ipython3",
   "version": "3.8.5"
  },
  "papermill": {
   "default_parameters": {},
   "duration": 77.597122,
   "end_time": "2021-05-24T15:46:27.804006",
   "environment_variables": {},
   "exception": null,
   "input_path": "__notebook__.ipynb",
   "output_path": "__notebook__.ipynb",
   "parameters": {},
   "start_time": "2021-05-24T15:45:10.206884",
   "version": "2.3.3"
  }
 },
 "nbformat": 4,
 "nbformat_minor": 5
}
