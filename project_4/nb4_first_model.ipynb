{
 "cells": [
  {
   "cell_type": "markdown",
   "metadata": {},
   "source": [
    "# Read model data with pandas"
   ]
  },
  {
   "cell_type": "code",
   "execution_count": 1,
   "metadata": {},
   "outputs": [],
   "source": [
    "import pandas as pd"
   ]
  },
  {
   "cell_type": "code",
   "execution_count": 2,
   "metadata": {},
   "outputs": [],
   "source": [
    "df = pd.read_csv('data_model.csv')"
   ]
  },
  {
   "cell_type": "code",
   "execution_count": 3,
   "metadata": {},
   "outputs": [
    {
     "data": {
      "text/html": [
       "<div>\n",
       "<style scoped>\n",
       "    .dataframe tbody tr th:only-of-type {\n",
       "        vertical-align: middle;\n",
       "    }\n",
       "\n",
       "    .dataframe tbody tr th {\n",
       "        vertical-align: top;\n",
       "    }\n",
       "\n",
       "    .dataframe thead th {\n",
       "        text-align: right;\n",
       "    }\n",
       "</style>\n",
       "<table border=\"1\" class=\"dataframe\">\n",
       "  <thead>\n",
       "    <tr style=\"text-align: right;\">\n",
       "      <th></th>\n",
       "      <th>Ranking</th>\n",
       "      <th>Rating</th>\n",
       "      <th>Number of Reviews</th>\n",
       "      <th>branches</th>\n",
       "      <th>n_styles</th>\n",
       "      <th>negative</th>\n",
       "      <th>neutral</th>\n",
       "      <th>positive</th>\n",
       "      <th>high</th>\n",
       "      <th>low</th>\n",
       "      <th>...</th>\n",
       "      <th>Paris</th>\n",
       "      <th>Prague</th>\n",
       "      <th>Rome</th>\n",
       "      <th>Stockholm</th>\n",
       "      <th>Vienna</th>\n",
       "      <th>Warsaw</th>\n",
       "      <th>Zurich</th>\n",
       "      <th>Ranking_squared</th>\n",
       "      <th>NoR_squared</th>\n",
       "      <th>Rank_NoR_multi</th>\n",
       "    </tr>\n",
       "  </thead>\n",
       "  <tbody>\n",
       "    <tr>\n",
       "      <th>0</th>\n",
       "      <td>5570.0</td>\n",
       "      <td>3.5</td>\n",
       "      <td>194.0</td>\n",
       "      <td>0</td>\n",
       "      <td>3</td>\n",
       "      <td>0</td>\n",
       "      <td>1</td>\n",
       "      <td>0</td>\n",
       "      <td>0</td>\n",
       "      <td>0</td>\n",
       "      <td>...</td>\n",
       "      <td>1</td>\n",
       "      <td>0</td>\n",
       "      <td>0</td>\n",
       "      <td>0</td>\n",
       "      <td>0</td>\n",
       "      <td>0</td>\n",
       "      <td>0</td>\n",
       "      <td>31024900.0</td>\n",
       "      <td>37636.0</td>\n",
       "      <td>1080580.0</td>\n",
       "    </tr>\n",
       "    <tr>\n",
       "      <th>1</th>\n",
       "      <td>1537.0</td>\n",
       "      <td>4.0</td>\n",
       "      <td>10.0</td>\n",
       "      <td>0</td>\n",
       "      <td>1</td>\n",
       "      <td>0</td>\n",
       "      <td>0</td>\n",
       "      <td>1</td>\n",
       "      <td>0</td>\n",
       "      <td>0</td>\n",
       "      <td>...</td>\n",
       "      <td>0</td>\n",
       "      <td>0</td>\n",
       "      <td>0</td>\n",
       "      <td>1</td>\n",
       "      <td>0</td>\n",
       "      <td>0</td>\n",
       "      <td>0</td>\n",
       "      <td>2362369.0</td>\n",
       "      <td>100.0</td>\n",
       "      <td>15370.0</td>\n",
       "    </tr>\n",
       "  </tbody>\n",
       "</table>\n",
       "<p>2 rows × 46 columns</p>\n",
       "</div>"
      ],
      "text/plain": [
       "   Ranking  Rating  Number of Reviews  branches  n_styles  negative  neutral  \\\n",
       "0   5570.0     3.5              194.0         0         3         0        1   \n",
       "1   1537.0     4.0               10.0         0         1         0        0   \n",
       "\n",
       "   positive  high  low  ...  Paris  Prague  Rome  Stockholm  Vienna  Warsaw  \\\n",
       "0         0     0    0  ...      1       0     0          0       0       0   \n",
       "1         1     0    0  ...      0       0     0          1       0       0   \n",
       "\n",
       "   Zurich  Ranking_squared  NoR_squared  Rank_NoR_multi  \n",
       "0       0       31024900.0      37636.0       1080580.0  \n",
       "1       0        2362369.0        100.0         15370.0  \n",
       "\n",
       "[2 rows x 46 columns]"
      ]
     },
     "execution_count": 3,
     "metadata": {},
     "output_type": "execute_result"
    }
   ],
   "source": [
    "df.head(2)"
   ]
  },
  {
   "cell_type": "markdown",
   "metadata": {},
   "source": [
    "# Split the dataframe into parts necessary for training and testing the model"
   ]
  },
  {
   "cell_type": "code",
   "execution_count": 4,
   "metadata": {},
   "outputs": [],
   "source": [
    "# X - data with information about restaurants, y - target variable (restaurant ratings)\n",
    "\n",
    "X = df.drop(['Rating'], axis=1)\n",
    "y = df['Rating']"
   ]
  },
  {
   "cell_type": "code",
   "execution_count": 5,
   "metadata": {},
   "outputs": [],
   "source": [
    "# import tool for splitting:\n",
    "from sklearn.model_selection import train_test_split"
   ]
  },
  {
   "cell_type": "code",
   "execution_count": 6,
   "metadata": {},
   "outputs": [],
   "source": [
    "# Datasets labeled \"train\" will be used for training the model, \"test\" for testing.\n",
    "# For testing we will use 25% of the original dataset.\n",
    "X_train, X_test, y_train, y_test = train_test_split(X, y, test_size=0.25)"
   ]
  },
  {
   "cell_type": "markdown",
   "metadata": {},
   "source": [
    "# Create, train and test the model"
   ]
  },
  {
   "cell_type": "code",
   "execution_count": 7,
   "metadata": {},
   "outputs": [],
   "source": [
    "# Import necessary libraries:\n",
    "# tool for creating and training a model\n",
    "from sklearn.ensemble import RandomForestRegressor\n",
    "from sklearn import metrics  # tools for assessing model accuracy"
   ]
  },
  {
   "cell_type": "code",
   "execution_count": 8,
   "metadata": {},
   "outputs": [],
   "source": [
    "# Create model\n",
    "regr = RandomForestRegressor(n_estimators=100)\n",
    "\n",
    "# Train the model on a test dataset\n",
    "regr.fit(X_train, y_train)\n",
    "\n",
    "# We use a trained model to predict restaurant ratings in a test sample.\n",
    "# Predicted values are written to the y_pred variable\n",
    "y_pred = regr.predict(X_test)"
   ]
  },
  {
   "cell_type": "code",
   "execution_count": 9,
   "metadata": {},
   "outputs": [
    {
     "name": "stdout",
     "output_type": "stream",
     "text": [
      "MAE: 0.15411599999999998\n"
     ]
    }
   ],
   "source": [
    "# Compare the predicted values (y_pred) with the real ones (y_test), and see how much they differ on average\n",
    "# The metric is called the Mean Absolute Error (MAE) and shows the average deviation of the predicted values from the actual ones.\n",
    "print('MAE:', metrics.mean_absolute_error(y_test, y_pred))"
   ]
  }
 ],
 "metadata": {
  "kernelspec": {
   "display_name": "Python 3",
   "language": "python",
   "name": "python3"
  },
  "language_info": {
   "codemirror_mode": {
    "name": "ipython",
    "version": 3
   },
   "file_extension": ".py",
   "mimetype": "text/x-python",
   "name": "python",
   "nbconvert_exporter": "python",
   "pygments_lexer": "ipython3",
   "version": "3.8.5"
  }
 },
 "nbformat": 4,
 "nbformat_minor": 2
}
